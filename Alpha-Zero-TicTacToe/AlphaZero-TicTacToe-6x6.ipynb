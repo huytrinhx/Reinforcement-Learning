{
 "cells": [
  {
   "cell_type": "markdown",
   "metadata": {},
   "source": [
    "# Initialize a game"
   ]
  },
  {
   "cell_type": "code",
   "execution_count": 1,
   "metadata": {},
   "outputs": [],
   "source": [
    "from ConnectN import ConnectN\n",
    "grid_size = 6\n",
    "win_size = 4\n",
    "game_setting = {'size':(grid_size,grid_size), 'N':win_size, \"pie_rule\":True}\n",
    "game = ConnectN(**game_setting)\n",
    "\n"
   ]
  },
  {
   "cell_type": "code",
   "execution_count": 2,
   "metadata": {},
   "outputs": [
    {
     "data": {
      "application/javascript": [
       "/* Put everything inside the global mpl namespace */\n",
       "window.mpl = {};\n",
       "\n",
       "\n",
       "mpl.get_websocket_type = function() {\n",
       "    if (typeof(WebSocket) !== 'undefined') {\n",
       "        return WebSocket;\n",
       "    } else if (typeof(MozWebSocket) !== 'undefined') {\n",
       "        return MozWebSocket;\n",
       "    } else {\n",
       "        alert('Your browser does not have WebSocket support.' +\n",
       "              'Please try Chrome, Safari or Firefox ≥ 6. ' +\n",
       "              'Firefox 4 and 5 are also supported but you ' +\n",
       "              'have to enable WebSockets in about:config.');\n",
       "    };\n",
       "}\n",
       "\n",
       "mpl.figure = function(figure_id, websocket, ondownload, parent_element) {\n",
       "    this.id = figure_id;\n",
       "\n",
       "    this.ws = websocket;\n",
       "\n",
       "    this.supports_binary = (this.ws.binaryType != undefined);\n",
       "\n",
       "    if (!this.supports_binary) {\n",
       "        var warnings = document.getElementById(\"mpl-warnings\");\n",
       "        if (warnings) {\n",
       "            warnings.style.display = 'block';\n",
       "            warnings.textContent = (\n",
       "                \"This browser does not support binary websocket messages. \" +\n",
       "                    \"Performance may be slow.\");\n",
       "        }\n",
       "    }\n",
       "\n",
       "    this.imageObj = new Image();\n",
       "\n",
       "    this.context = undefined;\n",
       "    this.message = undefined;\n",
       "    this.canvas = undefined;\n",
       "    this.rubberband_canvas = undefined;\n",
       "    this.rubberband_context = undefined;\n",
       "    this.format_dropdown = undefined;\n",
       "\n",
       "    this.image_mode = 'full';\n",
       "\n",
       "    this.root = $('<div/>');\n",
       "    this._root_extra_style(this.root)\n",
       "    this.root.attr('style', 'display: inline-block');\n",
       "\n",
       "    $(parent_element).append(this.root);\n",
       "\n",
       "    this._init_header(this);\n",
       "    this._init_canvas(this);\n",
       "    this._init_toolbar(this);\n",
       "\n",
       "    var fig = this;\n",
       "\n",
       "    this.waiting = false;\n",
       "\n",
       "    this.ws.onopen =  function () {\n",
       "            fig.send_message(\"supports_binary\", {value: fig.supports_binary});\n",
       "            fig.send_message(\"send_image_mode\", {});\n",
       "            if (mpl.ratio != 1) {\n",
       "                fig.send_message(\"set_dpi_ratio\", {'dpi_ratio': mpl.ratio});\n",
       "            }\n",
       "            fig.send_message(\"refresh\", {});\n",
       "        }\n",
       "\n",
       "    this.imageObj.onload = function() {\n",
       "            if (fig.image_mode == 'full') {\n",
       "                // Full images could contain transparency (where diff images\n",
       "                // almost always do), so we need to clear the canvas so that\n",
       "                // there is no ghosting.\n",
       "                fig.context.clearRect(0, 0, fig.canvas.width, fig.canvas.height);\n",
       "            }\n",
       "            fig.context.drawImage(fig.imageObj, 0, 0);\n",
       "        };\n",
       "\n",
       "    this.imageObj.onunload = function() {\n",
       "        fig.ws.close();\n",
       "    }\n",
       "\n",
       "    this.ws.onmessage = this._make_on_message_function(this);\n",
       "\n",
       "    this.ondownload = ondownload;\n",
       "}\n",
       "\n",
       "mpl.figure.prototype._init_header = function() {\n",
       "    var titlebar = $(\n",
       "        '<div class=\"ui-dialog-titlebar ui-widget-header ui-corner-all ' +\n",
       "        'ui-helper-clearfix\"/>');\n",
       "    var titletext = $(\n",
       "        '<div class=\"ui-dialog-title\" style=\"width: 100%; ' +\n",
       "        'text-align: center; padding: 3px;\"/>');\n",
       "    titlebar.append(titletext)\n",
       "    this.root.append(titlebar);\n",
       "    this.header = titletext[0];\n",
       "}\n",
       "\n",
       "\n",
       "\n",
       "mpl.figure.prototype._canvas_extra_style = function(canvas_div) {\n",
       "\n",
       "}\n",
       "\n",
       "\n",
       "mpl.figure.prototype._root_extra_style = function(canvas_div) {\n",
       "\n",
       "}\n",
       "\n",
       "mpl.figure.prototype._init_canvas = function() {\n",
       "    var fig = this;\n",
       "\n",
       "    var canvas_div = $('<div/>');\n",
       "\n",
       "    canvas_div.attr('style', 'position: relative; clear: both; outline: 0');\n",
       "\n",
       "    function canvas_keyboard_event(event) {\n",
       "        return fig.key_event(event, event['data']);\n",
       "    }\n",
       "\n",
       "    canvas_div.keydown('key_press', canvas_keyboard_event);\n",
       "    canvas_div.keyup('key_release', canvas_keyboard_event);\n",
       "    this.canvas_div = canvas_div\n",
       "    this._canvas_extra_style(canvas_div)\n",
       "    this.root.append(canvas_div);\n",
       "\n",
       "    var canvas = $('<canvas/>');\n",
       "    canvas.addClass('mpl-canvas');\n",
       "    canvas.attr('style', \"left: 0; top: 0; z-index: 0; outline: 0\")\n",
       "\n",
       "    this.canvas = canvas[0];\n",
       "    this.context = canvas[0].getContext(\"2d\");\n",
       "\n",
       "    var backingStore = this.context.backingStorePixelRatio ||\n",
       "\tthis.context.webkitBackingStorePixelRatio ||\n",
       "\tthis.context.mozBackingStorePixelRatio ||\n",
       "\tthis.context.msBackingStorePixelRatio ||\n",
       "\tthis.context.oBackingStorePixelRatio ||\n",
       "\tthis.context.backingStorePixelRatio || 1;\n",
       "\n",
       "    mpl.ratio = (window.devicePixelRatio || 1) / backingStore;\n",
       "\n",
       "    var rubberband = $('<canvas/>');\n",
       "    rubberband.attr('style', \"position: absolute; left: 0; top: 0; z-index: 1;\")\n",
       "\n",
       "    var pass_mouse_events = true;\n",
       "\n",
       "    canvas_div.resizable({\n",
       "        start: function(event, ui) {\n",
       "            pass_mouse_events = false;\n",
       "        },\n",
       "        resize: function(event, ui) {\n",
       "            fig.request_resize(ui.size.width, ui.size.height);\n",
       "        },\n",
       "        stop: function(event, ui) {\n",
       "            pass_mouse_events = true;\n",
       "            fig.request_resize(ui.size.width, ui.size.height);\n",
       "        },\n",
       "    });\n",
       "\n",
       "    function mouse_event_fn(event) {\n",
       "        if (pass_mouse_events)\n",
       "            return fig.mouse_event(event, event['data']);\n",
       "    }\n",
       "\n",
       "    rubberband.mousedown('button_press', mouse_event_fn);\n",
       "    rubberband.mouseup('button_release', mouse_event_fn);\n",
       "    // Throttle sequential mouse events to 1 every 20ms.\n",
       "    rubberband.mousemove('motion_notify', mouse_event_fn);\n",
       "\n",
       "    rubberband.mouseenter('figure_enter', mouse_event_fn);\n",
       "    rubberband.mouseleave('figure_leave', mouse_event_fn);\n",
       "\n",
       "    canvas_div.on(\"wheel\", function (event) {\n",
       "        event = event.originalEvent;\n",
       "        event['data'] = 'scroll'\n",
       "        if (event.deltaY < 0) {\n",
       "            event.step = 1;\n",
       "        } else {\n",
       "            event.step = -1;\n",
       "        }\n",
       "        mouse_event_fn(event);\n",
       "    });\n",
       "\n",
       "    canvas_div.append(canvas);\n",
       "    canvas_div.append(rubberband);\n",
       "\n",
       "    this.rubberband = rubberband;\n",
       "    this.rubberband_canvas = rubberband[0];\n",
       "    this.rubberband_context = rubberband[0].getContext(\"2d\");\n",
       "    this.rubberband_context.strokeStyle = \"#000000\";\n",
       "\n",
       "    this._resize_canvas = function(width, height) {\n",
       "        // Keep the size of the canvas, canvas container, and rubber band\n",
       "        // canvas in synch.\n",
       "        canvas_div.css('width', width)\n",
       "        canvas_div.css('height', height)\n",
       "\n",
       "        canvas.attr('width', width * mpl.ratio);\n",
       "        canvas.attr('height', height * mpl.ratio);\n",
       "        canvas.attr('style', 'width: ' + width + 'px; height: ' + height + 'px;');\n",
       "\n",
       "        rubberband.attr('width', width);\n",
       "        rubberband.attr('height', height);\n",
       "    }\n",
       "\n",
       "    // Set the figure to an initial 600x600px, this will subsequently be updated\n",
       "    // upon first draw.\n",
       "    this._resize_canvas(600, 600);\n",
       "\n",
       "    // Disable right mouse context menu.\n",
       "    $(this.rubberband_canvas).bind(\"contextmenu\",function(e){\n",
       "        return false;\n",
       "    });\n",
       "\n",
       "    function set_focus () {\n",
       "        canvas.focus();\n",
       "        canvas_div.focus();\n",
       "    }\n",
       "\n",
       "    window.setTimeout(set_focus, 100);\n",
       "}\n",
       "\n",
       "mpl.figure.prototype._init_toolbar = function() {\n",
       "    var fig = this;\n",
       "\n",
       "    var nav_element = $('<div/>')\n",
       "    nav_element.attr('style', 'width: 100%');\n",
       "    this.root.append(nav_element);\n",
       "\n",
       "    // Define a callback function for later on.\n",
       "    function toolbar_event(event) {\n",
       "        return fig.toolbar_button_onclick(event['data']);\n",
       "    }\n",
       "    function toolbar_mouse_event(event) {\n",
       "        return fig.toolbar_button_onmouseover(event['data']);\n",
       "    }\n",
       "\n",
       "    for(var toolbar_ind in mpl.toolbar_items) {\n",
       "        var name = mpl.toolbar_items[toolbar_ind][0];\n",
       "        var tooltip = mpl.toolbar_items[toolbar_ind][1];\n",
       "        var image = mpl.toolbar_items[toolbar_ind][2];\n",
       "        var method_name = mpl.toolbar_items[toolbar_ind][3];\n",
       "\n",
       "        if (!name) {\n",
       "            // put a spacer in here.\n",
       "            continue;\n",
       "        }\n",
       "        var button = $('<button/>');\n",
       "        button.addClass('ui-button ui-widget ui-state-default ui-corner-all ' +\n",
       "                        'ui-button-icon-only');\n",
       "        button.attr('role', 'button');\n",
       "        button.attr('aria-disabled', 'false');\n",
       "        button.click(method_name, toolbar_event);\n",
       "        button.mouseover(tooltip, toolbar_mouse_event);\n",
       "\n",
       "        var icon_img = $('<span/>');\n",
       "        icon_img.addClass('ui-button-icon-primary ui-icon');\n",
       "        icon_img.addClass(image);\n",
       "        icon_img.addClass('ui-corner-all');\n",
       "\n",
       "        var tooltip_span = $('<span/>');\n",
       "        tooltip_span.addClass('ui-button-text');\n",
       "        tooltip_span.html(tooltip);\n",
       "\n",
       "        button.append(icon_img);\n",
       "        button.append(tooltip_span);\n",
       "\n",
       "        nav_element.append(button);\n",
       "    }\n",
       "\n",
       "    var fmt_picker_span = $('<span/>');\n",
       "\n",
       "    var fmt_picker = $('<select/>');\n",
       "    fmt_picker.addClass('mpl-toolbar-option ui-widget ui-widget-content');\n",
       "    fmt_picker_span.append(fmt_picker);\n",
       "    nav_element.append(fmt_picker_span);\n",
       "    this.format_dropdown = fmt_picker[0];\n",
       "\n",
       "    for (var ind in mpl.extensions) {\n",
       "        var fmt = mpl.extensions[ind];\n",
       "        var option = $(\n",
       "            '<option/>', {selected: fmt === mpl.default_extension}).html(fmt);\n",
       "        fmt_picker.append(option)\n",
       "    }\n",
       "\n",
       "    // Add hover states to the ui-buttons\n",
       "    $( \".ui-button\" ).hover(\n",
       "        function() { $(this).addClass(\"ui-state-hover\");},\n",
       "        function() { $(this).removeClass(\"ui-state-hover\");}\n",
       "    );\n",
       "\n",
       "    var status_bar = $('<span class=\"mpl-message\"/>');\n",
       "    nav_element.append(status_bar);\n",
       "    this.message = status_bar[0];\n",
       "}\n",
       "\n",
       "mpl.figure.prototype.request_resize = function(x_pixels, y_pixels) {\n",
       "    // Request matplotlib to resize the figure. Matplotlib will then trigger a resize in the client,\n",
       "    // which will in turn request a refresh of the image.\n",
       "    this.send_message('resize', {'width': x_pixels, 'height': y_pixels});\n",
       "}\n",
       "\n",
       "mpl.figure.prototype.send_message = function(type, properties) {\n",
       "    properties['type'] = type;\n",
       "    properties['figure_id'] = this.id;\n",
       "    this.ws.send(JSON.stringify(properties));\n",
       "}\n",
       "\n",
       "mpl.figure.prototype.send_draw_message = function() {\n",
       "    if (!this.waiting) {\n",
       "        this.waiting = true;\n",
       "        this.ws.send(JSON.stringify({type: \"draw\", figure_id: this.id}));\n",
       "    }\n",
       "}\n",
       "\n",
       "\n",
       "mpl.figure.prototype.handle_save = function(fig, msg) {\n",
       "    var format_dropdown = fig.format_dropdown;\n",
       "    var format = format_dropdown.options[format_dropdown.selectedIndex].value;\n",
       "    fig.ondownload(fig, format);\n",
       "}\n",
       "\n",
       "\n",
       "mpl.figure.prototype.handle_resize = function(fig, msg) {\n",
       "    var size = msg['size'];\n",
       "    if (size[0] != fig.canvas.width || size[1] != fig.canvas.height) {\n",
       "        fig._resize_canvas(size[0], size[1]);\n",
       "        fig.send_message(\"refresh\", {});\n",
       "    };\n",
       "}\n",
       "\n",
       "mpl.figure.prototype.handle_rubberband = function(fig, msg) {\n",
       "    var x0 = msg['x0'] / mpl.ratio;\n",
       "    var y0 = (fig.canvas.height - msg['y0']) / mpl.ratio;\n",
       "    var x1 = msg['x1'] / mpl.ratio;\n",
       "    var y1 = (fig.canvas.height - msg['y1']) / mpl.ratio;\n",
       "    x0 = Math.floor(x0) + 0.5;\n",
       "    y0 = Math.floor(y0) + 0.5;\n",
       "    x1 = Math.floor(x1) + 0.5;\n",
       "    y1 = Math.floor(y1) + 0.5;\n",
       "    var min_x = Math.min(x0, x1);\n",
       "    var min_y = Math.min(y0, y1);\n",
       "    var width = Math.abs(x1 - x0);\n",
       "    var height = Math.abs(y1 - y0);\n",
       "\n",
       "    fig.rubberband_context.clearRect(\n",
       "        0, 0, fig.canvas.width, fig.canvas.height);\n",
       "\n",
       "    fig.rubberband_context.strokeRect(min_x, min_y, width, height);\n",
       "}\n",
       "\n",
       "mpl.figure.prototype.handle_figure_label = function(fig, msg) {\n",
       "    // Updates the figure title.\n",
       "    fig.header.textContent = msg['label'];\n",
       "}\n",
       "\n",
       "mpl.figure.prototype.handle_cursor = function(fig, msg) {\n",
       "    var cursor = msg['cursor'];\n",
       "    switch(cursor)\n",
       "    {\n",
       "    case 0:\n",
       "        cursor = 'pointer';\n",
       "        break;\n",
       "    case 1:\n",
       "        cursor = 'default';\n",
       "        break;\n",
       "    case 2:\n",
       "        cursor = 'crosshair';\n",
       "        break;\n",
       "    case 3:\n",
       "        cursor = 'move';\n",
       "        break;\n",
       "    }\n",
       "    fig.rubberband_canvas.style.cursor = cursor;\n",
       "}\n",
       "\n",
       "mpl.figure.prototype.handle_message = function(fig, msg) {\n",
       "    fig.message.textContent = msg['message'];\n",
       "}\n",
       "\n",
       "mpl.figure.prototype.handle_draw = function(fig, msg) {\n",
       "    // Request the server to send over a new figure.\n",
       "    fig.send_draw_message();\n",
       "}\n",
       "\n",
       "mpl.figure.prototype.handle_image_mode = function(fig, msg) {\n",
       "    fig.image_mode = msg['mode'];\n",
       "}\n",
       "\n",
       "mpl.figure.prototype.updated_canvas_event = function() {\n",
       "    // Called whenever the canvas gets updated.\n",
       "    this.send_message(\"ack\", {});\n",
       "}\n",
       "\n",
       "// A function to construct a web socket function for onmessage handling.\n",
       "// Called in the figure constructor.\n",
       "mpl.figure.prototype._make_on_message_function = function(fig) {\n",
       "    return function socket_on_message(evt) {\n",
       "        if (evt.data instanceof Blob) {\n",
       "            /* FIXME: We get \"Resource interpreted as Image but\n",
       "             * transferred with MIME type text/plain:\" errors on\n",
       "             * Chrome.  But how to set the MIME type?  It doesn't seem\n",
       "             * to be part of the websocket stream */\n",
       "            evt.data.type = \"image/png\";\n",
       "\n",
       "            /* Free the memory for the previous frames */\n",
       "            if (fig.imageObj.src) {\n",
       "                (window.URL || window.webkitURL).revokeObjectURL(\n",
       "                    fig.imageObj.src);\n",
       "            }\n",
       "\n",
       "            fig.imageObj.src = (window.URL || window.webkitURL).createObjectURL(\n",
       "                evt.data);\n",
       "            fig.updated_canvas_event();\n",
       "            fig.waiting = false;\n",
       "            return;\n",
       "        }\n",
       "        else if (typeof evt.data === 'string' && evt.data.slice(0, 21) == \"data:image/png;base64\") {\n",
       "            fig.imageObj.src = evt.data;\n",
       "            fig.updated_canvas_event();\n",
       "            fig.waiting = false;\n",
       "            return;\n",
       "        }\n",
       "\n",
       "        var msg = JSON.parse(evt.data);\n",
       "        var msg_type = msg['type'];\n",
       "\n",
       "        // Call the  \"handle_{type}\" callback, which takes\n",
       "        // the figure and JSON message as its only arguments.\n",
       "        try {\n",
       "            var callback = fig[\"handle_\" + msg_type];\n",
       "        } catch (e) {\n",
       "            console.log(\"No handler for the '\" + msg_type + \"' message type: \", msg);\n",
       "            return;\n",
       "        }\n",
       "\n",
       "        if (callback) {\n",
       "            try {\n",
       "                // console.log(\"Handling '\" + msg_type + \"' message: \", msg);\n",
       "                callback(fig, msg);\n",
       "            } catch (e) {\n",
       "                console.log(\"Exception inside the 'handler_\" + msg_type + \"' callback:\", e, e.stack, msg);\n",
       "            }\n",
       "        }\n",
       "    };\n",
       "}\n",
       "\n",
       "// from http://stackoverflow.com/questions/1114465/getting-mouse-location-in-canvas\n",
       "mpl.findpos = function(e) {\n",
       "    //this section is from http://www.quirksmode.org/js/events_properties.html\n",
       "    var targ;\n",
       "    if (!e)\n",
       "        e = window.event;\n",
       "    if (e.target)\n",
       "        targ = e.target;\n",
       "    else if (e.srcElement)\n",
       "        targ = e.srcElement;\n",
       "    if (targ.nodeType == 3) // defeat Safari bug\n",
       "        targ = targ.parentNode;\n",
       "\n",
       "    // jQuery normalizes the pageX and pageY\n",
       "    // pageX,Y are the mouse positions relative to the document\n",
       "    // offset() returns the position of the element relative to the document\n",
       "    var x = e.pageX - $(targ).offset().left;\n",
       "    var y = e.pageY - $(targ).offset().top;\n",
       "\n",
       "    return {\"x\": x, \"y\": y};\n",
       "};\n",
       "\n",
       "/*\n",
       " * return a copy of an object with only non-object keys\n",
       " * we need this to avoid circular references\n",
       " * http://stackoverflow.com/a/24161582/3208463\n",
       " */\n",
       "function simpleKeys (original) {\n",
       "  return Object.keys(original).reduce(function (obj, key) {\n",
       "    if (typeof original[key] !== 'object')\n",
       "        obj[key] = original[key]\n",
       "    return obj;\n",
       "  }, {});\n",
       "}\n",
       "\n",
       "mpl.figure.prototype.mouse_event = function(event, name) {\n",
       "    var canvas_pos = mpl.findpos(event)\n",
       "\n",
       "    if (name === 'button_press')\n",
       "    {\n",
       "        this.canvas.focus();\n",
       "        this.canvas_div.focus();\n",
       "    }\n",
       "\n",
       "    var x = canvas_pos.x * mpl.ratio;\n",
       "    var y = canvas_pos.y * mpl.ratio;\n",
       "\n",
       "    this.send_message(name, {x: x, y: y, button: event.button,\n",
       "                             step: event.step,\n",
       "                             guiEvent: simpleKeys(event)});\n",
       "\n",
       "    /* This prevents the web browser from automatically changing to\n",
       "     * the text insertion cursor when the button is pressed.  We want\n",
       "     * to control all of the cursor setting manually through the\n",
       "     * 'cursor' event from matplotlib */\n",
       "    event.preventDefault();\n",
       "    return false;\n",
       "}\n",
       "\n",
       "mpl.figure.prototype._key_event_extra = function(event, name) {\n",
       "    // Handle any extra behaviour associated with a key event\n",
       "}\n",
       "\n",
       "mpl.figure.prototype.key_event = function(event, name) {\n",
       "\n",
       "    // Prevent repeat events\n",
       "    if (name == 'key_press')\n",
       "    {\n",
       "        if (event.which === this._key)\n",
       "            return;\n",
       "        else\n",
       "            this._key = event.which;\n",
       "    }\n",
       "    if (name == 'key_release')\n",
       "        this._key = null;\n",
       "\n",
       "    var value = '';\n",
       "    if (event.ctrlKey && event.which != 17)\n",
       "        value += \"ctrl+\";\n",
       "    if (event.altKey && event.which != 18)\n",
       "        value += \"alt+\";\n",
       "    if (event.shiftKey && event.which != 16)\n",
       "        value += \"shift+\";\n",
       "\n",
       "    value += 'k';\n",
       "    value += event.which.toString();\n",
       "\n",
       "    this._key_event_extra(event, name);\n",
       "\n",
       "    this.send_message(name, {key: value,\n",
       "                             guiEvent: simpleKeys(event)});\n",
       "    return false;\n",
       "}\n",
       "\n",
       "mpl.figure.prototype.toolbar_button_onclick = function(name) {\n",
       "    if (name == 'download') {\n",
       "        this.handle_save(this, null);\n",
       "    } else {\n",
       "        this.send_message(\"toolbar_button\", {name: name});\n",
       "    }\n",
       "};\n",
       "\n",
       "mpl.figure.prototype.toolbar_button_onmouseover = function(tooltip) {\n",
       "    this.message.textContent = tooltip;\n",
       "};\n",
       "mpl.toolbar_items = [[\"Home\", \"Reset original view\", \"fa fa-home icon-home\", \"home\"], [\"Back\", \"Back to  previous view\", \"fa fa-arrow-left icon-arrow-left\", \"back\"], [\"Forward\", \"Forward to next view\", \"fa fa-arrow-right icon-arrow-right\", \"forward\"], [\"\", \"\", \"\", \"\"], [\"Pan\", \"Pan axes with left mouse, zoom with right\", \"fa fa-arrows icon-move\", \"pan\"], [\"Zoom\", \"Zoom to rectangle\", \"fa fa-square-o icon-check-empty\", \"zoom\"], [\"\", \"\", \"\", \"\"], [\"Download\", \"Download plot\", \"fa fa-floppy-o icon-save\", \"download\"]];\n",
       "\n",
       "mpl.extensions = [\"eps\", \"jpeg\", \"pdf\", \"png\", \"ps\", \"raw\", \"svg\", \"tif\"];\n",
       "\n",
       "mpl.default_extension = \"png\";var comm_websocket_adapter = function(comm) {\n",
       "    // Create a \"websocket\"-like object which calls the given IPython comm\n",
       "    // object with the appropriate methods. Currently this is a non binary\n",
       "    // socket, so there is still some room for performance tuning.\n",
       "    var ws = {};\n",
       "\n",
       "    ws.close = function() {\n",
       "        comm.close()\n",
       "    };\n",
       "    ws.send = function(m) {\n",
       "        //console.log('sending', m);\n",
       "        comm.send(m);\n",
       "    };\n",
       "    // Register the callback with on_msg.\n",
       "    comm.on_msg(function(msg) {\n",
       "        //console.log('receiving', msg['content']['data'], msg);\n",
       "        // Pass the mpl event to the overriden (by mpl) onmessage function.\n",
       "        ws.onmessage(msg['content']['data'])\n",
       "    });\n",
       "    return ws;\n",
       "}\n",
       "\n",
       "mpl.mpl_figure_comm = function(comm, msg) {\n",
       "    // This is the function which gets called when the mpl process\n",
       "    // starts-up an IPython Comm through the \"matplotlib\" channel.\n",
       "\n",
       "    var id = msg.content.data.id;\n",
       "    // Get hold of the div created by the display call when the Comm\n",
       "    // socket was opened in Python.\n",
       "    var element = $(\"#\" + id);\n",
       "    var ws_proxy = comm_websocket_adapter(comm)\n",
       "\n",
       "    function ondownload(figure, format) {\n",
       "        window.open(figure.imageObj.src);\n",
       "    }\n",
       "\n",
       "    var fig = new mpl.figure(id, ws_proxy,\n",
       "                           ondownload,\n",
       "                           element.get(0));\n",
       "\n",
       "    // Call onopen now - mpl needs it, as it is assuming we've passed it a real\n",
       "    // web socket which is closed, not our websocket->open comm proxy.\n",
       "    ws_proxy.onopen();\n",
       "\n",
       "    fig.parent_element = element.get(0);\n",
       "    fig.cell_info = mpl.find_output_cell(\"<div id='\" + id + \"'></div>\");\n",
       "    if (!fig.cell_info) {\n",
       "        console.error(\"Failed to find cell for figure\", id, fig);\n",
       "        return;\n",
       "    }\n",
       "\n",
       "    var output_index = fig.cell_info[2]\n",
       "    var cell = fig.cell_info[0];\n",
       "\n",
       "};\n",
       "\n",
       "mpl.figure.prototype.handle_close = function(fig, msg) {\n",
       "    var width = fig.canvas.width/mpl.ratio\n",
       "    fig.root.unbind('remove')\n",
       "\n",
       "    // Update the output cell to use the data from the current canvas.\n",
       "    fig.push_to_output();\n",
       "    var dataURL = fig.canvas.toDataURL();\n",
       "    // Re-enable the keyboard manager in IPython - without this line, in FF,\n",
       "    // the notebook keyboard shortcuts fail.\n",
       "    IPython.keyboard_manager.enable()\n",
       "    $(fig.parent_element).html('<img src=\"' + dataURL + '\" width=\"' + width + '\">');\n",
       "    fig.close_ws(fig, msg);\n",
       "}\n",
       "\n",
       "mpl.figure.prototype.close_ws = function(fig, msg){\n",
       "    fig.send_message('closing', msg);\n",
       "    // fig.ws.close()\n",
       "}\n",
       "\n",
       "mpl.figure.prototype.push_to_output = function(remove_interactive) {\n",
       "    // Turn the data on the canvas into data in the output cell.\n",
       "    var width = this.canvas.width/mpl.ratio\n",
       "    var dataURL = this.canvas.toDataURL();\n",
       "    this.cell_info[1]['text/html'] = '<img src=\"' + dataURL + '\" width=\"' + width + '\">';\n",
       "}\n",
       "\n",
       "mpl.figure.prototype.updated_canvas_event = function() {\n",
       "    // Tell IPython that the notebook contents must change.\n",
       "    IPython.notebook.set_dirty(true);\n",
       "    this.send_message(\"ack\", {});\n",
       "    var fig = this;\n",
       "    // Wait a second, then push the new image to the DOM so\n",
       "    // that it is saved nicely (might be nice to debounce this).\n",
       "    setTimeout(function () { fig.push_to_output() }, 1000);\n",
       "}\n",
       "\n",
       "mpl.figure.prototype._init_toolbar = function() {\n",
       "    var fig = this;\n",
       "\n",
       "    var nav_element = $('<div/>')\n",
       "    nav_element.attr('style', 'width: 100%');\n",
       "    this.root.append(nav_element);\n",
       "\n",
       "    // Define a callback function for later on.\n",
       "    function toolbar_event(event) {\n",
       "        return fig.toolbar_button_onclick(event['data']);\n",
       "    }\n",
       "    function toolbar_mouse_event(event) {\n",
       "        return fig.toolbar_button_onmouseover(event['data']);\n",
       "    }\n",
       "\n",
       "    for(var toolbar_ind in mpl.toolbar_items){\n",
       "        var name = mpl.toolbar_items[toolbar_ind][0];\n",
       "        var tooltip = mpl.toolbar_items[toolbar_ind][1];\n",
       "        var image = mpl.toolbar_items[toolbar_ind][2];\n",
       "        var method_name = mpl.toolbar_items[toolbar_ind][3];\n",
       "\n",
       "        if (!name) { continue; };\n",
       "\n",
       "        var button = $('<button class=\"btn btn-default\" href=\"#\" title=\"' + name + '\"><i class=\"fa ' + image + ' fa-lg\"></i></button>');\n",
       "        button.click(method_name, toolbar_event);\n",
       "        button.mouseover(tooltip, toolbar_mouse_event);\n",
       "        nav_element.append(button);\n",
       "    }\n",
       "\n",
       "    // Add the status bar.\n",
       "    var status_bar = $('<span class=\"mpl-message\" style=\"text-align:right; float: right;\"/>');\n",
       "    nav_element.append(status_bar);\n",
       "    this.message = status_bar[0];\n",
       "\n",
       "    // Add the close button to the window.\n",
       "    var buttongrp = $('<div class=\"btn-group inline pull-right\"></div>');\n",
       "    var button = $('<button class=\"btn btn-mini btn-primary\" href=\"#\" title=\"Stop Interaction\"><i class=\"fa fa-power-off icon-remove icon-large\"></i></button>');\n",
       "    button.click(function (evt) { fig.handle_close(fig, {}); } );\n",
       "    button.mouseover('Stop Interaction', toolbar_mouse_event);\n",
       "    buttongrp.append(button);\n",
       "    var titlebar = this.root.find($('.ui-dialog-titlebar'));\n",
       "    titlebar.prepend(buttongrp);\n",
       "}\n",
       "\n",
       "mpl.figure.prototype._root_extra_style = function(el){\n",
       "    var fig = this\n",
       "    el.on(\"remove\", function(){\n",
       "\tfig.close_ws(fig, {});\n",
       "    });\n",
       "}\n",
       "\n",
       "mpl.figure.prototype._canvas_extra_style = function(el){\n",
       "    // this is important to make the div 'focusable\n",
       "    el.attr('tabindex', 0)\n",
       "    // reach out to IPython and tell the keyboard manager to turn it's self\n",
       "    // off when our div gets focus\n",
       "\n",
       "    // location in version 3\n",
       "    if (IPython.notebook.keyboard_manager) {\n",
       "        IPython.notebook.keyboard_manager.register_events(el);\n",
       "    }\n",
       "    else {\n",
       "        // location in version 2\n",
       "        IPython.keyboard_manager.register_events(el);\n",
       "    }\n",
       "\n",
       "}\n",
       "\n",
       "mpl.figure.prototype._key_event_extra = function(event, name) {\n",
       "    var manager = IPython.notebook.keyboard_manager;\n",
       "    if (!manager)\n",
       "        manager = IPython.keyboard_manager;\n",
       "\n",
       "    // Check for shift+enter\n",
       "    if (event.shiftKey && event.which == 13) {\n",
       "        this.canvas_div.blur();\n",
       "        event.shiftKey = false;\n",
       "        // Send a \"J\" for go to next cell\n",
       "        event.which = 74;\n",
       "        event.keyCode = 74;\n",
       "        manager.command_mode();\n",
       "        manager.handle_keydown(event);\n",
       "    }\n",
       "}\n",
       "\n",
       "mpl.figure.prototype.handle_save = function(fig, msg) {\n",
       "    fig.ondownload(fig, null);\n",
       "}\n",
       "\n",
       "\n",
       "mpl.find_output_cell = function(html_output) {\n",
       "    // Return the cell and output element which can be found *uniquely* in the notebook.\n",
       "    // Note - this is a bit hacky, but it is done because the \"notebook_saving.Notebook\"\n",
       "    // IPython event is triggered only after the cells have been serialised, which for\n",
       "    // our purposes (turning an active figure into a static one), is too late.\n",
       "    var cells = IPython.notebook.get_cells();\n",
       "    var ncells = cells.length;\n",
       "    for (var i=0; i<ncells; i++) {\n",
       "        var cell = cells[i];\n",
       "        if (cell.cell_type === 'code'){\n",
       "            for (var j=0; j<cell.output_area.outputs.length; j++) {\n",
       "                var data = cell.output_area.outputs[j];\n",
       "                if (data.data) {\n",
       "                    // IPython >= 3 moved mimebundle to data attribute of output\n",
       "                    data = data.data;\n",
       "                }\n",
       "                if (data['text/html'] == html_output) {\n",
       "                    return [cell, data, j];\n",
       "                }\n",
       "            }\n",
       "        }\n",
       "    }\n",
       "}\n",
       "\n",
       "// Register the function which deals with the matplotlib target/channel.\n",
       "// The kernel may be null if the page has been refreshed.\n",
       "if (IPython.notebook.kernel != null) {\n",
       "    IPython.notebook.kernel.comm_manager.register_target('matplotlib', mpl.mpl_figure_comm);\n",
       "}\n"
      ],
      "text/plain": [
       "<IPython.core.display.Javascript object>"
      ]
     },
     "metadata": {},
     "output_type": "display_data"
    },
    {
     "data": {
      "text/html": [
       "<img src=\"data:image/png;base64,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\" width=\"285.6\">"
      ],
      "text/plain": [
       "<IPython.core.display.HTML object>"
      ]
     },
     "metadata": {},
     "output_type": "display_data"
    }
   ],
   "source": [
    "% matplotlib notebook\n",
    "\n",
    "from Play import Play\n",
    "\n",
    "\n",
    "gameplay=Play(ConnectN(**game_setting), \n",
    "              player1=None, \n",
    "              player2=None)\n"
   ]
  },
  {
   "cell_type": "markdown",
   "metadata": {},
   "source": [
    "# Define our policy\n",
    "\n",
    "Please go ahead and define your own policy! See if you can train it under 1000 games and with only 1000 steps of exploration in each move."
   ]
  },
  {
   "cell_type": "code",
   "execution_count": 3,
   "metadata": {},
   "outputs": [],
   "source": [
    "#Refer to Policy.py to see implementation details and network architecture\n",
    "from Policy import Policy\n",
    "policy = Policy(grid_size)"
   ]
  },
  {
   "cell_type": "markdown",
   "metadata": {},
   "source": [
    "# Define a MCTS player for Play"
   ]
  },
  {
   "cell_type": "code",
   "execution_count": 4,
   "metadata": {},
   "outputs": [],
   "source": [
    "import MCTS\n",
    "from copy import copy\n",
    "\n",
    "\n",
    "def Policy_Player_MCTS(game):\n",
    "    mytree = MCTS.Node(copy(game))\n",
    "    for _ in range(1000):\n",
    "        mytree.explore(policy)\n",
    "       \n",
    "    mytreenext, (v, nn_v, p, nn_p) = mytree.next(temperature=0.1)\n",
    "    \n",
    "    return mytreenext.game.last_move\n",
    "\n",
    "import random\n",
    "\n",
    "def Random_Player(game):\n",
    "    return random.choice(game.available_moves())    \n"
   ]
  },
  {
   "cell_type": "markdown",
   "metadata": {},
   "source": [
    "# Play a game against a random policy"
   ]
  },
  {
   "cell_type": "code",
   "execution_count": 5,
   "metadata": {},
   "outputs": [
    {
     "data": {
      "application/javascript": [
       "/* Put everything inside the global mpl namespace */\n",
       "window.mpl = {};\n",
       "\n",
       "\n",
       "mpl.get_websocket_type = function() {\n",
       "    if (typeof(WebSocket) !== 'undefined') {\n",
       "        return WebSocket;\n",
       "    } else if (typeof(MozWebSocket) !== 'undefined') {\n",
       "        return MozWebSocket;\n",
       "    } else {\n",
       "        alert('Your browser does not have WebSocket support.' +\n",
       "              'Please try Chrome, Safari or Firefox ≥ 6. ' +\n",
       "              'Firefox 4 and 5 are also supported but you ' +\n",
       "              'have to enable WebSockets in about:config.');\n",
       "    };\n",
       "}\n",
       "\n",
       "mpl.figure = function(figure_id, websocket, ondownload, parent_element) {\n",
       "    this.id = figure_id;\n",
       "\n",
       "    this.ws = websocket;\n",
       "\n",
       "    this.supports_binary = (this.ws.binaryType != undefined);\n",
       "\n",
       "    if (!this.supports_binary) {\n",
       "        var warnings = document.getElementById(\"mpl-warnings\");\n",
       "        if (warnings) {\n",
       "            warnings.style.display = 'block';\n",
       "            warnings.textContent = (\n",
       "                \"This browser does not support binary websocket messages. \" +\n",
       "                    \"Performance may be slow.\");\n",
       "        }\n",
       "    }\n",
       "\n",
       "    this.imageObj = new Image();\n",
       "\n",
       "    this.context = undefined;\n",
       "    this.message = undefined;\n",
       "    this.canvas = undefined;\n",
       "    this.rubberband_canvas = undefined;\n",
       "    this.rubberband_context = undefined;\n",
       "    this.format_dropdown = undefined;\n",
       "\n",
       "    this.image_mode = 'full';\n",
       "\n",
       "    this.root = $('<div/>');\n",
       "    this._root_extra_style(this.root)\n",
       "    this.root.attr('style', 'display: inline-block');\n",
       "\n",
       "    $(parent_element).append(this.root);\n",
       "\n",
       "    this._init_header(this);\n",
       "    this._init_canvas(this);\n",
       "    this._init_toolbar(this);\n",
       "\n",
       "    var fig = this;\n",
       "\n",
       "    this.waiting = false;\n",
       "\n",
       "    this.ws.onopen =  function () {\n",
       "            fig.send_message(\"supports_binary\", {value: fig.supports_binary});\n",
       "            fig.send_message(\"send_image_mode\", {});\n",
       "            if (mpl.ratio != 1) {\n",
       "                fig.send_message(\"set_dpi_ratio\", {'dpi_ratio': mpl.ratio});\n",
       "            }\n",
       "            fig.send_message(\"refresh\", {});\n",
       "        }\n",
       "\n",
       "    this.imageObj.onload = function() {\n",
       "            if (fig.image_mode == 'full') {\n",
       "                // Full images could contain transparency (where diff images\n",
       "                // almost always do), so we need to clear the canvas so that\n",
       "                // there is no ghosting.\n",
       "                fig.context.clearRect(0, 0, fig.canvas.width, fig.canvas.height);\n",
       "            }\n",
       "            fig.context.drawImage(fig.imageObj, 0, 0);\n",
       "        };\n",
       "\n",
       "    this.imageObj.onunload = function() {\n",
       "        fig.ws.close();\n",
       "    }\n",
       "\n",
       "    this.ws.onmessage = this._make_on_message_function(this);\n",
       "\n",
       "    this.ondownload = ondownload;\n",
       "}\n",
       "\n",
       "mpl.figure.prototype._init_header = function() {\n",
       "    var titlebar = $(\n",
       "        '<div class=\"ui-dialog-titlebar ui-widget-header ui-corner-all ' +\n",
       "        'ui-helper-clearfix\"/>');\n",
       "    var titletext = $(\n",
       "        '<div class=\"ui-dialog-title\" style=\"width: 100%; ' +\n",
       "        'text-align: center; padding: 3px;\"/>');\n",
       "    titlebar.append(titletext)\n",
       "    this.root.append(titlebar);\n",
       "    this.header = titletext[0];\n",
       "}\n",
       "\n",
       "\n",
       "\n",
       "mpl.figure.prototype._canvas_extra_style = function(canvas_div) {\n",
       "\n",
       "}\n",
       "\n",
       "\n",
       "mpl.figure.prototype._root_extra_style = function(canvas_div) {\n",
       "\n",
       "}\n",
       "\n",
       "mpl.figure.prototype._init_canvas = function() {\n",
       "    var fig = this;\n",
       "\n",
       "    var canvas_div = $('<div/>');\n",
       "\n",
       "    canvas_div.attr('style', 'position: relative; clear: both; outline: 0');\n",
       "\n",
       "    function canvas_keyboard_event(event) {\n",
       "        return fig.key_event(event, event['data']);\n",
       "    }\n",
       "\n",
       "    canvas_div.keydown('key_press', canvas_keyboard_event);\n",
       "    canvas_div.keyup('key_release', canvas_keyboard_event);\n",
       "    this.canvas_div = canvas_div\n",
       "    this._canvas_extra_style(canvas_div)\n",
       "    this.root.append(canvas_div);\n",
       "\n",
       "    var canvas = $('<canvas/>');\n",
       "    canvas.addClass('mpl-canvas');\n",
       "    canvas.attr('style', \"left: 0; top: 0; z-index: 0; outline: 0\")\n",
       "\n",
       "    this.canvas = canvas[0];\n",
       "    this.context = canvas[0].getContext(\"2d\");\n",
       "\n",
       "    var backingStore = this.context.backingStorePixelRatio ||\n",
       "\tthis.context.webkitBackingStorePixelRatio ||\n",
       "\tthis.context.mozBackingStorePixelRatio ||\n",
       "\tthis.context.msBackingStorePixelRatio ||\n",
       "\tthis.context.oBackingStorePixelRatio ||\n",
       "\tthis.context.backingStorePixelRatio || 1;\n",
       "\n",
       "    mpl.ratio = (window.devicePixelRatio || 1) / backingStore;\n",
       "\n",
       "    var rubberband = $('<canvas/>');\n",
       "    rubberband.attr('style', \"position: absolute; left: 0; top: 0; z-index: 1;\")\n",
       "\n",
       "    var pass_mouse_events = true;\n",
       "\n",
       "    canvas_div.resizable({\n",
       "        start: function(event, ui) {\n",
       "            pass_mouse_events = false;\n",
       "        },\n",
       "        resize: function(event, ui) {\n",
       "            fig.request_resize(ui.size.width, ui.size.height);\n",
       "        },\n",
       "        stop: function(event, ui) {\n",
       "            pass_mouse_events = true;\n",
       "            fig.request_resize(ui.size.width, ui.size.height);\n",
       "        },\n",
       "    });\n",
       "\n",
       "    function mouse_event_fn(event) {\n",
       "        if (pass_mouse_events)\n",
       "            return fig.mouse_event(event, event['data']);\n",
       "    }\n",
       "\n",
       "    rubberband.mousedown('button_press', mouse_event_fn);\n",
       "    rubberband.mouseup('button_release', mouse_event_fn);\n",
       "    // Throttle sequential mouse events to 1 every 20ms.\n",
       "    rubberband.mousemove('motion_notify', mouse_event_fn);\n",
       "\n",
       "    rubberband.mouseenter('figure_enter', mouse_event_fn);\n",
       "    rubberband.mouseleave('figure_leave', mouse_event_fn);\n",
       "\n",
       "    canvas_div.on(\"wheel\", function (event) {\n",
       "        event = event.originalEvent;\n",
       "        event['data'] = 'scroll'\n",
       "        if (event.deltaY < 0) {\n",
       "            event.step = 1;\n",
       "        } else {\n",
       "            event.step = -1;\n",
       "        }\n",
       "        mouse_event_fn(event);\n",
       "    });\n",
       "\n",
       "    canvas_div.append(canvas);\n",
       "    canvas_div.append(rubberband);\n",
       "\n",
       "    this.rubberband = rubberband;\n",
       "    this.rubberband_canvas = rubberband[0];\n",
       "    this.rubberband_context = rubberband[0].getContext(\"2d\");\n",
       "    this.rubberband_context.strokeStyle = \"#000000\";\n",
       "\n",
       "    this._resize_canvas = function(width, height) {\n",
       "        // Keep the size of the canvas, canvas container, and rubber band\n",
       "        // canvas in synch.\n",
       "        canvas_div.css('width', width)\n",
       "        canvas_div.css('height', height)\n",
       "\n",
       "        canvas.attr('width', width * mpl.ratio);\n",
       "        canvas.attr('height', height * mpl.ratio);\n",
       "        canvas.attr('style', 'width: ' + width + 'px; height: ' + height + 'px;');\n",
       "\n",
       "        rubberband.attr('width', width);\n",
       "        rubberband.attr('height', height);\n",
       "    }\n",
       "\n",
       "    // Set the figure to an initial 600x600px, this will subsequently be updated\n",
       "    // upon first draw.\n",
       "    this._resize_canvas(600, 600);\n",
       "\n",
       "    // Disable right mouse context menu.\n",
       "    $(this.rubberband_canvas).bind(\"contextmenu\",function(e){\n",
       "        return false;\n",
       "    });\n",
       "\n",
       "    function set_focus () {\n",
       "        canvas.focus();\n",
       "        canvas_div.focus();\n",
       "    }\n",
       "\n",
       "    window.setTimeout(set_focus, 100);\n",
       "}\n",
       "\n",
       "mpl.figure.prototype._init_toolbar = function() {\n",
       "    var fig = this;\n",
       "\n",
       "    var nav_element = $('<div/>')\n",
       "    nav_element.attr('style', 'width: 100%');\n",
       "    this.root.append(nav_element);\n",
       "\n",
       "    // Define a callback function for later on.\n",
       "    function toolbar_event(event) {\n",
       "        return fig.toolbar_button_onclick(event['data']);\n",
       "    }\n",
       "    function toolbar_mouse_event(event) {\n",
       "        return fig.toolbar_button_onmouseover(event['data']);\n",
       "    }\n",
       "\n",
       "    for(var toolbar_ind in mpl.toolbar_items) {\n",
       "        var name = mpl.toolbar_items[toolbar_ind][0];\n",
       "        var tooltip = mpl.toolbar_items[toolbar_ind][1];\n",
       "        var image = mpl.toolbar_items[toolbar_ind][2];\n",
       "        var method_name = mpl.toolbar_items[toolbar_ind][3];\n",
       "\n",
       "        if (!name) {\n",
       "            // put a spacer in here.\n",
       "            continue;\n",
       "        }\n",
       "        var button = $('<button/>');\n",
       "        button.addClass('ui-button ui-widget ui-state-default ui-corner-all ' +\n",
       "                        'ui-button-icon-only');\n",
       "        button.attr('role', 'button');\n",
       "        button.attr('aria-disabled', 'false');\n",
       "        button.click(method_name, toolbar_event);\n",
       "        button.mouseover(tooltip, toolbar_mouse_event);\n",
       "\n",
       "        var icon_img = $('<span/>');\n",
       "        icon_img.addClass('ui-button-icon-primary ui-icon');\n",
       "        icon_img.addClass(image);\n",
       "        icon_img.addClass('ui-corner-all');\n",
       "\n",
       "        var tooltip_span = $('<span/>');\n",
       "        tooltip_span.addClass('ui-button-text');\n",
       "        tooltip_span.html(tooltip);\n",
       "\n",
       "        button.append(icon_img);\n",
       "        button.append(tooltip_span);\n",
       "\n",
       "        nav_element.append(button);\n",
       "    }\n",
       "\n",
       "    var fmt_picker_span = $('<span/>');\n",
       "\n",
       "    var fmt_picker = $('<select/>');\n",
       "    fmt_picker.addClass('mpl-toolbar-option ui-widget ui-widget-content');\n",
       "    fmt_picker_span.append(fmt_picker);\n",
       "    nav_element.append(fmt_picker_span);\n",
       "    this.format_dropdown = fmt_picker[0];\n",
       "\n",
       "    for (var ind in mpl.extensions) {\n",
       "        var fmt = mpl.extensions[ind];\n",
       "        var option = $(\n",
       "            '<option/>', {selected: fmt === mpl.default_extension}).html(fmt);\n",
       "        fmt_picker.append(option)\n",
       "    }\n",
       "\n",
       "    // Add hover states to the ui-buttons\n",
       "    $( \".ui-button\" ).hover(\n",
       "        function() { $(this).addClass(\"ui-state-hover\");},\n",
       "        function() { $(this).removeClass(\"ui-state-hover\");}\n",
       "    );\n",
       "\n",
       "    var status_bar = $('<span class=\"mpl-message\"/>');\n",
       "    nav_element.append(status_bar);\n",
       "    this.message = status_bar[0];\n",
       "}\n",
       "\n",
       "mpl.figure.prototype.request_resize = function(x_pixels, y_pixels) {\n",
       "    // Request matplotlib to resize the figure. Matplotlib will then trigger a resize in the client,\n",
       "    // which will in turn request a refresh of the image.\n",
       "    this.send_message('resize', {'width': x_pixels, 'height': y_pixels});\n",
       "}\n",
       "\n",
       "mpl.figure.prototype.send_message = function(type, properties) {\n",
       "    properties['type'] = type;\n",
       "    properties['figure_id'] = this.id;\n",
       "    this.ws.send(JSON.stringify(properties));\n",
       "}\n",
       "\n",
       "mpl.figure.prototype.send_draw_message = function() {\n",
       "    if (!this.waiting) {\n",
       "        this.waiting = true;\n",
       "        this.ws.send(JSON.stringify({type: \"draw\", figure_id: this.id}));\n",
       "    }\n",
       "}\n",
       "\n",
       "\n",
       "mpl.figure.prototype.handle_save = function(fig, msg) {\n",
       "    var format_dropdown = fig.format_dropdown;\n",
       "    var format = format_dropdown.options[format_dropdown.selectedIndex].value;\n",
       "    fig.ondownload(fig, format);\n",
       "}\n",
       "\n",
       "\n",
       "mpl.figure.prototype.handle_resize = function(fig, msg) {\n",
       "    var size = msg['size'];\n",
       "    if (size[0] != fig.canvas.width || size[1] != fig.canvas.height) {\n",
       "        fig._resize_canvas(size[0], size[1]);\n",
       "        fig.send_message(\"refresh\", {});\n",
       "    };\n",
       "}\n",
       "\n",
       "mpl.figure.prototype.handle_rubberband = function(fig, msg) {\n",
       "    var x0 = msg['x0'] / mpl.ratio;\n",
       "    var y0 = (fig.canvas.height - msg['y0']) / mpl.ratio;\n",
       "    var x1 = msg['x1'] / mpl.ratio;\n",
       "    var y1 = (fig.canvas.height - msg['y1']) / mpl.ratio;\n",
       "    x0 = Math.floor(x0) + 0.5;\n",
       "    y0 = Math.floor(y0) + 0.5;\n",
       "    x1 = Math.floor(x1) + 0.5;\n",
       "    y1 = Math.floor(y1) + 0.5;\n",
       "    var min_x = Math.min(x0, x1);\n",
       "    var min_y = Math.min(y0, y1);\n",
       "    var width = Math.abs(x1 - x0);\n",
       "    var height = Math.abs(y1 - y0);\n",
       "\n",
       "    fig.rubberband_context.clearRect(\n",
       "        0, 0, fig.canvas.width, fig.canvas.height);\n",
       "\n",
       "    fig.rubberband_context.strokeRect(min_x, min_y, width, height);\n",
       "}\n",
       "\n",
       "mpl.figure.prototype.handle_figure_label = function(fig, msg) {\n",
       "    // Updates the figure title.\n",
       "    fig.header.textContent = msg['label'];\n",
       "}\n",
       "\n",
       "mpl.figure.prototype.handle_cursor = function(fig, msg) {\n",
       "    var cursor = msg['cursor'];\n",
       "    switch(cursor)\n",
       "    {\n",
       "    case 0:\n",
       "        cursor = 'pointer';\n",
       "        break;\n",
       "    case 1:\n",
       "        cursor = 'default';\n",
       "        break;\n",
       "    case 2:\n",
       "        cursor = 'crosshair';\n",
       "        break;\n",
       "    case 3:\n",
       "        cursor = 'move';\n",
       "        break;\n",
       "    }\n",
       "    fig.rubberband_canvas.style.cursor = cursor;\n",
       "}\n",
       "\n",
       "mpl.figure.prototype.handle_message = function(fig, msg) {\n",
       "    fig.message.textContent = msg['message'];\n",
       "}\n",
       "\n",
       "mpl.figure.prototype.handle_draw = function(fig, msg) {\n",
       "    // Request the server to send over a new figure.\n",
       "    fig.send_draw_message();\n",
       "}\n",
       "\n",
       "mpl.figure.prototype.handle_image_mode = function(fig, msg) {\n",
       "    fig.image_mode = msg['mode'];\n",
       "}\n",
       "\n",
       "mpl.figure.prototype.updated_canvas_event = function() {\n",
       "    // Called whenever the canvas gets updated.\n",
       "    this.send_message(\"ack\", {});\n",
       "}\n",
       "\n",
       "// A function to construct a web socket function for onmessage handling.\n",
       "// Called in the figure constructor.\n",
       "mpl.figure.prototype._make_on_message_function = function(fig) {\n",
       "    return function socket_on_message(evt) {\n",
       "        if (evt.data instanceof Blob) {\n",
       "            /* FIXME: We get \"Resource interpreted as Image but\n",
       "             * transferred with MIME type text/plain:\" errors on\n",
       "             * Chrome.  But how to set the MIME type?  It doesn't seem\n",
       "             * to be part of the websocket stream */\n",
       "            evt.data.type = \"image/png\";\n",
       "\n",
       "            /* Free the memory for the previous frames */\n",
       "            if (fig.imageObj.src) {\n",
       "                (window.URL || window.webkitURL).revokeObjectURL(\n",
       "                    fig.imageObj.src);\n",
       "            }\n",
       "\n",
       "            fig.imageObj.src = (window.URL || window.webkitURL).createObjectURL(\n",
       "                evt.data);\n",
       "            fig.updated_canvas_event();\n",
       "            fig.waiting = false;\n",
       "            return;\n",
       "        }\n",
       "        else if (typeof evt.data === 'string' && evt.data.slice(0, 21) == \"data:image/png;base64\") {\n",
       "            fig.imageObj.src = evt.data;\n",
       "            fig.updated_canvas_event();\n",
       "            fig.waiting = false;\n",
       "            return;\n",
       "        }\n",
       "\n",
       "        var msg = JSON.parse(evt.data);\n",
       "        var msg_type = msg['type'];\n",
       "\n",
       "        // Call the  \"handle_{type}\" callback, which takes\n",
       "        // the figure and JSON message as its only arguments.\n",
       "        try {\n",
       "            var callback = fig[\"handle_\" + msg_type];\n",
       "        } catch (e) {\n",
       "            console.log(\"No handler for the '\" + msg_type + \"' message type: \", msg);\n",
       "            return;\n",
       "        }\n",
       "\n",
       "        if (callback) {\n",
       "            try {\n",
       "                // console.log(\"Handling '\" + msg_type + \"' message: \", msg);\n",
       "                callback(fig, msg);\n",
       "            } catch (e) {\n",
       "                console.log(\"Exception inside the 'handler_\" + msg_type + \"' callback:\", e, e.stack, msg);\n",
       "            }\n",
       "        }\n",
       "    };\n",
       "}\n",
       "\n",
       "// from http://stackoverflow.com/questions/1114465/getting-mouse-location-in-canvas\n",
       "mpl.findpos = function(e) {\n",
       "    //this section is from http://www.quirksmode.org/js/events_properties.html\n",
       "    var targ;\n",
       "    if (!e)\n",
       "        e = window.event;\n",
       "    if (e.target)\n",
       "        targ = e.target;\n",
       "    else if (e.srcElement)\n",
       "        targ = e.srcElement;\n",
       "    if (targ.nodeType == 3) // defeat Safari bug\n",
       "        targ = targ.parentNode;\n",
       "\n",
       "    // jQuery normalizes the pageX and pageY\n",
       "    // pageX,Y are the mouse positions relative to the document\n",
       "    // offset() returns the position of the element relative to the document\n",
       "    var x = e.pageX - $(targ).offset().left;\n",
       "    var y = e.pageY - $(targ).offset().top;\n",
       "\n",
       "    return {\"x\": x, \"y\": y};\n",
       "};\n",
       "\n",
       "/*\n",
       " * return a copy of an object with only non-object keys\n",
       " * we need this to avoid circular references\n",
       " * http://stackoverflow.com/a/24161582/3208463\n",
       " */\n",
       "function simpleKeys (original) {\n",
       "  return Object.keys(original).reduce(function (obj, key) {\n",
       "    if (typeof original[key] !== 'object')\n",
       "        obj[key] = original[key]\n",
       "    return obj;\n",
       "  }, {});\n",
       "}\n",
       "\n",
       "mpl.figure.prototype.mouse_event = function(event, name) {\n",
       "    var canvas_pos = mpl.findpos(event)\n",
       "\n",
       "    if (name === 'button_press')\n",
       "    {\n",
       "        this.canvas.focus();\n",
       "        this.canvas_div.focus();\n",
       "    }\n",
       "\n",
       "    var x = canvas_pos.x * mpl.ratio;\n",
       "    var y = canvas_pos.y * mpl.ratio;\n",
       "\n",
       "    this.send_message(name, {x: x, y: y, button: event.button,\n",
       "                             step: event.step,\n",
       "                             guiEvent: simpleKeys(event)});\n",
       "\n",
       "    /* This prevents the web browser from automatically changing to\n",
       "     * the text insertion cursor when the button is pressed.  We want\n",
       "     * to control all of the cursor setting manually through the\n",
       "     * 'cursor' event from matplotlib */\n",
       "    event.preventDefault();\n",
       "    return false;\n",
       "}\n",
       "\n",
       "mpl.figure.prototype._key_event_extra = function(event, name) {\n",
       "    // Handle any extra behaviour associated with a key event\n",
       "}\n",
       "\n",
       "mpl.figure.prototype.key_event = function(event, name) {\n",
       "\n",
       "    // Prevent repeat events\n",
       "    if (name == 'key_press')\n",
       "    {\n",
       "        if (event.which === this._key)\n",
       "            return;\n",
       "        else\n",
       "            this._key = event.which;\n",
       "    }\n",
       "    if (name == 'key_release')\n",
       "        this._key = null;\n",
       "\n",
       "    var value = '';\n",
       "    if (event.ctrlKey && event.which != 17)\n",
       "        value += \"ctrl+\";\n",
       "    if (event.altKey && event.which != 18)\n",
       "        value += \"alt+\";\n",
       "    if (event.shiftKey && event.which != 16)\n",
       "        value += \"shift+\";\n",
       "\n",
       "    value += 'k';\n",
       "    value += event.which.toString();\n",
       "\n",
       "    this._key_event_extra(event, name);\n",
       "\n",
       "    this.send_message(name, {key: value,\n",
       "                             guiEvent: simpleKeys(event)});\n",
       "    return false;\n",
       "}\n",
       "\n",
       "mpl.figure.prototype.toolbar_button_onclick = function(name) {\n",
       "    if (name == 'download') {\n",
       "        this.handle_save(this, null);\n",
       "    } else {\n",
       "        this.send_message(\"toolbar_button\", {name: name});\n",
       "    }\n",
       "};\n",
       "\n",
       "mpl.figure.prototype.toolbar_button_onmouseover = function(tooltip) {\n",
       "    this.message.textContent = tooltip;\n",
       "};\n",
       "mpl.toolbar_items = [[\"Home\", \"Reset original view\", \"fa fa-home icon-home\", \"home\"], [\"Back\", \"Back to  previous view\", \"fa fa-arrow-left icon-arrow-left\", \"back\"], [\"Forward\", \"Forward to next view\", \"fa fa-arrow-right icon-arrow-right\", \"forward\"], [\"\", \"\", \"\", \"\"], [\"Pan\", \"Pan axes with left mouse, zoom with right\", \"fa fa-arrows icon-move\", \"pan\"], [\"Zoom\", \"Zoom to rectangle\", \"fa fa-square-o icon-check-empty\", \"zoom\"], [\"\", \"\", \"\", \"\"], [\"Download\", \"Download plot\", \"fa fa-floppy-o icon-save\", \"download\"]];\n",
       "\n",
       "mpl.extensions = [\"eps\", \"jpeg\", \"pdf\", \"png\", \"ps\", \"raw\", \"svg\", \"tif\"];\n",
       "\n",
       "mpl.default_extension = \"png\";var comm_websocket_adapter = function(comm) {\n",
       "    // Create a \"websocket\"-like object which calls the given IPython comm\n",
       "    // object with the appropriate methods. Currently this is a non binary\n",
       "    // socket, so there is still some room for performance tuning.\n",
       "    var ws = {};\n",
       "\n",
       "    ws.close = function() {\n",
       "        comm.close()\n",
       "    };\n",
       "    ws.send = function(m) {\n",
       "        //console.log('sending', m);\n",
       "        comm.send(m);\n",
       "    };\n",
       "    // Register the callback with on_msg.\n",
       "    comm.on_msg(function(msg) {\n",
       "        //console.log('receiving', msg['content']['data'], msg);\n",
       "        // Pass the mpl event to the overriden (by mpl) onmessage function.\n",
       "        ws.onmessage(msg['content']['data'])\n",
       "    });\n",
       "    return ws;\n",
       "}\n",
       "\n",
       "mpl.mpl_figure_comm = function(comm, msg) {\n",
       "    // This is the function which gets called when the mpl process\n",
       "    // starts-up an IPython Comm through the \"matplotlib\" channel.\n",
       "\n",
       "    var id = msg.content.data.id;\n",
       "    // Get hold of the div created by the display call when the Comm\n",
       "    // socket was opened in Python.\n",
       "    var element = $(\"#\" + id);\n",
       "    var ws_proxy = comm_websocket_adapter(comm)\n",
       "\n",
       "    function ondownload(figure, format) {\n",
       "        window.open(figure.imageObj.src);\n",
       "    }\n",
       "\n",
       "    var fig = new mpl.figure(id, ws_proxy,\n",
       "                           ondownload,\n",
       "                           element.get(0));\n",
       "\n",
       "    // Call onopen now - mpl needs it, as it is assuming we've passed it a real\n",
       "    // web socket which is closed, not our websocket->open comm proxy.\n",
       "    ws_proxy.onopen();\n",
       "\n",
       "    fig.parent_element = element.get(0);\n",
       "    fig.cell_info = mpl.find_output_cell(\"<div id='\" + id + \"'></div>\");\n",
       "    if (!fig.cell_info) {\n",
       "        console.error(\"Failed to find cell for figure\", id, fig);\n",
       "        return;\n",
       "    }\n",
       "\n",
       "    var output_index = fig.cell_info[2]\n",
       "    var cell = fig.cell_info[0];\n",
       "\n",
       "};\n",
       "\n",
       "mpl.figure.prototype.handle_close = function(fig, msg) {\n",
       "    var width = fig.canvas.width/mpl.ratio\n",
       "    fig.root.unbind('remove')\n",
       "\n",
       "    // Update the output cell to use the data from the current canvas.\n",
       "    fig.push_to_output();\n",
       "    var dataURL = fig.canvas.toDataURL();\n",
       "    // Re-enable the keyboard manager in IPython - without this line, in FF,\n",
       "    // the notebook keyboard shortcuts fail.\n",
       "    IPython.keyboard_manager.enable()\n",
       "    $(fig.parent_element).html('<img src=\"' + dataURL + '\" width=\"' + width + '\">');\n",
       "    fig.close_ws(fig, msg);\n",
       "}\n",
       "\n",
       "mpl.figure.prototype.close_ws = function(fig, msg){\n",
       "    fig.send_message('closing', msg);\n",
       "    // fig.ws.close()\n",
       "}\n",
       "\n",
       "mpl.figure.prototype.push_to_output = function(remove_interactive) {\n",
       "    // Turn the data on the canvas into data in the output cell.\n",
       "    var width = this.canvas.width/mpl.ratio\n",
       "    var dataURL = this.canvas.toDataURL();\n",
       "    this.cell_info[1]['text/html'] = '<img src=\"' + dataURL + '\" width=\"' + width + '\">';\n",
       "}\n",
       "\n",
       "mpl.figure.prototype.updated_canvas_event = function() {\n",
       "    // Tell IPython that the notebook contents must change.\n",
       "    IPython.notebook.set_dirty(true);\n",
       "    this.send_message(\"ack\", {});\n",
       "    var fig = this;\n",
       "    // Wait a second, then push the new image to the DOM so\n",
       "    // that it is saved nicely (might be nice to debounce this).\n",
       "    setTimeout(function () { fig.push_to_output() }, 1000);\n",
       "}\n",
       "\n",
       "mpl.figure.prototype._init_toolbar = function() {\n",
       "    var fig = this;\n",
       "\n",
       "    var nav_element = $('<div/>')\n",
       "    nav_element.attr('style', 'width: 100%');\n",
       "    this.root.append(nav_element);\n",
       "\n",
       "    // Define a callback function for later on.\n",
       "    function toolbar_event(event) {\n",
       "        return fig.toolbar_button_onclick(event['data']);\n",
       "    }\n",
       "    function toolbar_mouse_event(event) {\n",
       "        return fig.toolbar_button_onmouseover(event['data']);\n",
       "    }\n",
       "\n",
       "    for(var toolbar_ind in mpl.toolbar_items){\n",
       "        var name = mpl.toolbar_items[toolbar_ind][0];\n",
       "        var tooltip = mpl.toolbar_items[toolbar_ind][1];\n",
       "        var image = mpl.toolbar_items[toolbar_ind][2];\n",
       "        var method_name = mpl.toolbar_items[toolbar_ind][3];\n",
       "\n",
       "        if (!name) { continue; };\n",
       "\n",
       "        var button = $('<button class=\"btn btn-default\" href=\"#\" title=\"' + name + '\"><i class=\"fa ' + image + ' fa-lg\"></i></button>');\n",
       "        button.click(method_name, toolbar_event);\n",
       "        button.mouseover(tooltip, toolbar_mouse_event);\n",
       "        nav_element.append(button);\n",
       "    }\n",
       "\n",
       "    // Add the status bar.\n",
       "    var status_bar = $('<span class=\"mpl-message\" style=\"text-align:right; float: right;\"/>');\n",
       "    nav_element.append(status_bar);\n",
       "    this.message = status_bar[0];\n",
       "\n",
       "    // Add the close button to the window.\n",
       "    var buttongrp = $('<div class=\"btn-group inline pull-right\"></div>');\n",
       "    var button = $('<button class=\"btn btn-mini btn-primary\" href=\"#\" title=\"Stop Interaction\"><i class=\"fa fa-power-off icon-remove icon-large\"></i></button>');\n",
       "    button.click(function (evt) { fig.handle_close(fig, {}); } );\n",
       "    button.mouseover('Stop Interaction', toolbar_mouse_event);\n",
       "    buttongrp.append(button);\n",
       "    var titlebar = this.root.find($('.ui-dialog-titlebar'));\n",
       "    titlebar.prepend(buttongrp);\n",
       "}\n",
       "\n",
       "mpl.figure.prototype._root_extra_style = function(el){\n",
       "    var fig = this\n",
       "    el.on(\"remove\", function(){\n",
       "\tfig.close_ws(fig, {});\n",
       "    });\n",
       "}\n",
       "\n",
       "mpl.figure.prototype._canvas_extra_style = function(el){\n",
       "    // this is important to make the div 'focusable\n",
       "    el.attr('tabindex', 0)\n",
       "    // reach out to IPython and tell the keyboard manager to turn it's self\n",
       "    // off when our div gets focus\n",
       "\n",
       "    // location in version 3\n",
       "    if (IPython.notebook.keyboard_manager) {\n",
       "        IPython.notebook.keyboard_manager.register_events(el);\n",
       "    }\n",
       "    else {\n",
       "        // location in version 2\n",
       "        IPython.keyboard_manager.register_events(el);\n",
       "    }\n",
       "\n",
       "}\n",
       "\n",
       "mpl.figure.prototype._key_event_extra = function(event, name) {\n",
       "    var manager = IPython.notebook.keyboard_manager;\n",
       "    if (!manager)\n",
       "        manager = IPython.keyboard_manager;\n",
       "\n",
       "    // Check for shift+enter\n",
       "    if (event.shiftKey && event.which == 13) {\n",
       "        this.canvas_div.blur();\n",
       "        event.shiftKey = false;\n",
       "        // Send a \"J\" for go to next cell\n",
       "        event.which = 74;\n",
       "        event.keyCode = 74;\n",
       "        manager.command_mode();\n",
       "        manager.handle_keydown(event);\n",
       "    }\n",
       "}\n",
       "\n",
       "mpl.figure.prototype.handle_save = function(fig, msg) {\n",
       "    fig.ondownload(fig, null);\n",
       "}\n",
       "\n",
       "\n",
       "mpl.find_output_cell = function(html_output) {\n",
       "    // Return the cell and output element which can be found *uniquely* in the notebook.\n",
       "    // Note - this is a bit hacky, but it is done because the \"notebook_saving.Notebook\"\n",
       "    // IPython event is triggered only after the cells have been serialised, which for\n",
       "    // our purposes (turning an active figure into a static one), is too late.\n",
       "    var cells = IPython.notebook.get_cells();\n",
       "    var ncells = cells.length;\n",
       "    for (var i=0; i<ncells; i++) {\n",
       "        var cell = cells[i];\n",
       "        if (cell.cell_type === 'code'){\n",
       "            for (var j=0; j<cell.output_area.outputs.length; j++) {\n",
       "                var data = cell.output_area.outputs[j];\n",
       "                if (data.data) {\n",
       "                    // IPython >= 3 moved mimebundle to data attribute of output\n",
       "                    data = data.data;\n",
       "                }\n",
       "                if (data['text/html'] == html_output) {\n",
       "                    return [cell, data, j];\n",
       "                }\n",
       "            }\n",
       "        }\n",
       "    }\n",
       "}\n",
       "\n",
       "// Register the function which deals with the matplotlib target/channel.\n",
       "// The kernel may be null if the page has been refreshed.\n",
       "if (IPython.notebook.kernel != null) {\n",
       "    IPython.notebook.kernel.comm_manager.register_target('matplotlib', mpl.mpl_figure_comm);\n",
       "}\n"
      ],
      "text/plain": [
       "<IPython.core.display.Javascript object>"
      ]
     },
     "metadata": {},
     "output_type": "display_data"
    },
    {
     "data": {
      "text/html": [
       "<img src=\"data:image/png;base64,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\" width=\"285.6\">"
      ],
      "text/plain": [
       "<IPython.core.display.HTML object>"
      ]
     },
     "metadata": {},
     "output_type": "display_data"
    },
    {
     "name": "stderr",
     "output_type": "stream",
     "text": [
      "C:\\Users\\Hewitt\\Documents\\GitHub\\Reinforcement-Learning\\Alpha-Zero-TicTacToe\\MCTS.py:68: UserWarning: indexing with dtype torch.uint8 is now deprecated, please use a dtype torch.bool instead. (Triggered internally at  ..\\aten\\src\\ATen/native/IndexingUtils.h:30.)\n",
      "  return game.available_moves(), tinv(prob)[mask].view(-1), v.squeeze().squeeze()\n"
     ]
    }
   ],
   "source": [
    "% matplotlib notebook\n",
    "\n",
    "from Play import Play\n",
    "\n",
    "\n",
    "gameplay=Play(ConnectN(**game_setting), \n",
    "              player1=Policy_Player_MCTS, \n",
    "              player2=None)\n"
   ]
  },
  {
   "cell_type": "markdown",
   "metadata": {},
   "source": [
    "# Training"
   ]
  },
  {
   "cell_type": "markdown",
   "metadata": {},
   "source": [
    "Beware, training is **VERY VERY** slow!!"
   ]
  },
  {
   "cell_type": "code",
   "execution_count": 15,
   "metadata": {},
   "outputs": [
    {
     "name": "stderr",
     "output_type": "stream",
     "text": [
      "C:\\Users\\Hewitt\\Documents\\GitHub\\Reinforcement-Learning\\Alpha-Zero-TicTacToe\\MCTS.py:68: UserWarning: indexing with dtype torch.uint8 is now deprecated, please use a dtype torch.bool instead. (Triggered internally at  ..\\aten\\src\\ATen/native/IndexingUtils.h:30.)\n",
      "  return game.available_moves(), tinv(prob)[mask].view(-1), v.squeeze().squeeze()\n",
      "C:\\Users\\Hewitt\\Anaconda3\\envs\\drlnd\\lib\\site-packages\\torch\\autograd\\__init__.py:149: UserWarning: indexing with dtype torch.uint8 is now deprecated, please use a dtype torch.bool instead. (Triggered internally at  ..\\aten\\src\\ATen/native/IndexingUtils.h:30.)\n",
      "  allow_unreachable=True, accumulate_grad=True)  # allow_unreachable flag\n"
     ]
    },
    {
     "name": "stdout",
     "output_type": "stream",
     "text": [
      "game:  1 , mean loss: 0.36 , recent outcomes:  [-1]\n"
     ]
    },
    {
     "name": "stderr",
     "output_type": "stream",
     "text": [
      "training loop:   0% |                                           | ETA:  0:05:30\r"
     ]
    },
    {
     "name": "stdout",
     "output_type": "stream",
     "text": [
      "game:  11 , mean loss: 0.22 , recent outcomes:  [-1, -1, -1, -1, -1, -1, -1, -1, -1, -1]\n"
     ]
    },
    {
     "name": "stderr",
     "output_type": "stream",
     "text": [
      "training loop:   1% |                                           | ETA:  0:05:28\r"
     ]
    },
    {
     "name": "stdout",
     "output_type": "stream",
     "text": [
      "game:  21 , mean loss: 0.30 , recent outcomes:  [-1, -1, -1, -1, -1, -1, -1, -1, -1, -1]\n"
     ]
    },
    {
     "name": "stderr",
     "output_type": "stream",
     "text": [
      "training loop:   2% |#                                          | ETA:  0:05:24\r"
     ]
    },
    {
     "name": "stdout",
     "output_type": "stream",
     "text": [
      "game:  31 , mean loss: 0.33 , recent outcomes:  [-1, -1, -1, -1, -1, -1, -1, -1, -1, -1]\n"
     ]
    },
    {
     "name": "stderr",
     "output_type": "stream",
     "text": [
      "training loop:   3% |#                                          | ETA:  0:05:28\r"
     ]
    },
    {
     "name": "stdout",
     "output_type": "stream",
     "text": [
      "game:  41 , mean loss: 0.71 , recent outcomes:  [-1, -1, -1, -1, -1, -1, -1, -1, -1, -1]\n"
     ]
    },
    {
     "name": "stderr",
     "output_type": "stream",
     "text": [
      "training loop:   4% |##                                         | ETA:  0:05:24\r"
     ]
    },
    {
     "name": "stdout",
     "output_type": "stream",
     "text": [
      "game:  51 , mean loss: 0.65 , recent outcomes:  [-1, -1, -1, -1, -1, -1, -1, -1, -1, -1]\n"
     ]
    },
    {
     "name": "stderr",
     "output_type": "stream",
     "text": [
      "training loop:   5% |##                                         | ETA:  0:05:23\r"
     ]
    },
    {
     "name": "stdout",
     "output_type": "stream",
     "text": [
      "game:  61 , mean loss: 0.20 , recent outcomes:  [-1, -1, -1, -1, -1, -1, -1, -1, -1, -1]\n"
     ]
    },
    {
     "name": "stderr",
     "output_type": "stream",
     "text": [
      "training loop:   6% |##                                         | ETA:  0:05:19\r"
     ]
    },
    {
     "name": "stdout",
     "output_type": "stream",
     "text": [
      "game:  71 , mean loss: 0.25 , recent outcomes:  [-1, -1, -1, -1, -1, -1, -1, -1, -1, -1]\n"
     ]
    },
    {
     "name": "stderr",
     "output_type": "stream",
     "text": [
      "training loop:   7% |###                                        | ETA:  0:05:25\r"
     ]
    },
    {
     "name": "stdout",
     "output_type": "stream",
     "text": [
      "game:  81 , mean loss: 0.42 , recent outcomes:  [-1, -1, -1, -1, -1, -1, -1, -1, -1, -1]\n"
     ]
    },
    {
     "name": "stderr",
     "output_type": "stream",
     "text": [
      "training loop:   8% |###                                        | ETA:  0:05:19\r"
     ]
    },
    {
     "name": "stdout",
     "output_type": "stream",
     "text": [
      "game:  91 , mean loss: 0.39 , recent outcomes:  [-1, -1, -1, -1, -1, -1, -1, -1, -1, -1]\n"
     ]
    },
    {
     "name": "stderr",
     "output_type": "stream",
     "text": [
      "training loop:   9% |####                                       | ETA:  0:05:17\r"
     ]
    },
    {
     "name": "stdout",
     "output_type": "stream",
     "text": [
      "game:  101 , mean loss: 0.18 , recent outcomes:  [-1, -1, -1, -1, -1, -1, -1, -1, -1, -1]\n"
     ]
    },
    {
     "name": "stderr",
     "output_type": "stream",
     "text": [
      "training loop:  10% |####                                       | ETA:  0:05:18\r"
     ]
    },
    {
     "name": "stdout",
     "output_type": "stream",
     "text": [
      "game:  111 , mean loss: 0.56 , recent outcomes:  [-1, -1, -1, -1, -1, -1, -1, -1, -1, -1]\n"
     ]
    },
    {
     "name": "stderr",
     "output_type": "stream",
     "text": [
      "training loop:  11% |#####                                      | ETA:  0:05:16\r"
     ]
    },
    {
     "name": "stdout",
     "output_type": "stream",
     "text": [
      "game:  121 , mean loss: 0.73 , recent outcomes:  [-1, -1, -1, -1, -1, -1, -1, -1, -1, -1]\n"
     ]
    },
    {
     "name": "stderr",
     "output_type": "stream",
     "text": [
      "training loop:  12% |#####                                      | ETA:  0:05:15\r"
     ]
    },
    {
     "name": "stdout",
     "output_type": "stream",
     "text": [
      "game:  131 , mean loss: 0.71 , recent outcomes:  [-1, -1, -1, -1, -1, -1, -1, -1, -1, -1]\n"
     ]
    },
    {
     "name": "stderr",
     "output_type": "stream",
     "text": [
      "training loop:  13% |#####                                      | ETA:  0:05:10\r"
     ]
    },
    {
     "name": "stdout",
     "output_type": "stream",
     "text": [
      "game:  141 , mean loss: 0.58 , recent outcomes:  [-1, -1, -1, -1, -1, -1, -1, -1, -1, -1]\n"
     ]
    },
    {
     "name": "stderr",
     "output_type": "stream",
     "text": [
      "training loop:  14% |######                                     | ETA:  0:05:08\r"
     ]
    },
    {
     "name": "stdout",
     "output_type": "stream",
     "text": [
      "game:  151 , mean loss: 0.45 , recent outcomes:  [-1, -1, -1, -1, -1, -1, -1, -1, -1, -1]\n"
     ]
    },
    {
     "name": "stderr",
     "output_type": "stream",
     "text": [
      "training loop:  15% |######                                     | ETA:  0:05:06\r"
     ]
    },
    {
     "name": "stdout",
     "output_type": "stream",
     "text": [
      "game:  161 , mean loss: 0.94 , recent outcomes:  [-1, -1, -1, -1, -1, -1, -1, -1, -1, -1]\n"
     ]
    },
    {
     "name": "stderr",
     "output_type": "stream",
     "text": [
      "training loop:  16% |#######                                    | ETA:  0:05:03\r"
     ]
    },
    {
     "name": "stdout",
     "output_type": "stream",
     "text": [
      "game:  171 , mean loss: 0.74 , recent outcomes:  [-1, -1, -1, -1, -1, -1, -1, -1, -1, -1]\n"
     ]
    },
    {
     "name": "stderr",
     "output_type": "stream",
     "text": [
      "training loop:  17% |#######                                    | ETA:  0:04:59\r"
     ]
    },
    {
     "name": "stdout",
     "output_type": "stream",
     "text": [
      "game:  181 , mean loss: 0.40 , recent outcomes:  [-1, -1, -1, -1, -1, -1, -1, -1, -1, -1]\n"
     ]
    },
    {
     "name": "stderr",
     "output_type": "stream",
     "text": [
      "training loop:  18% |########                                   | ETA:  0:04:54\r"
     ]
    },
    {
     "name": "stdout",
     "output_type": "stream",
     "text": [
      "game:  191 , mean loss: 0.86 , recent outcomes:  [-1, -1, -1, -1, -1, -1, -1, -1, -1, -1]\n"
     ]
    },
    {
     "name": "stderr",
     "output_type": "stream",
     "text": [
      "training loop:  19% |########                                   | ETA:  0:04:51\r"
     ]
    },
    {
     "name": "stdout",
     "output_type": "stream",
     "text": [
      "game:  201 , mean loss: 2.45 , recent outcomes:  [-1, -1, -1, -1, -1, -1, -1, -1, -1, -1]\n"
     ]
    },
    {
     "name": "stderr",
     "output_type": "stream",
     "text": [
      "training loop:  20% |########                                   | ETA:  0:04:48\r"
     ]
    },
    {
     "name": "stdout",
     "output_type": "stream",
     "text": [
      "game:  211 , mean loss: 3.55 , recent outcomes:  [-1, -1, -1, -1, -1, -1, -1, -1, -1, -1]\n"
     ]
    },
    {
     "name": "stderr",
     "output_type": "stream",
     "text": [
      "training loop:  21% |#########                                  | ETA:  0:04:45\r"
     ]
    },
    {
     "name": "stdout",
     "output_type": "stream",
     "text": [
      "game:  221 , mean loss: 3.23 , recent outcomes:  [-1, -1, -1, -1, -1, -1, -1, -1, -1, -1]\n"
     ]
    },
    {
     "name": "stderr",
     "output_type": "stream",
     "text": [
      "training loop:  22% |#########                                  | ETA:  0:04:42\r"
     ]
    },
    {
     "name": "stdout",
     "output_type": "stream",
     "text": [
      "game:  231 , mean loss: 2.18 , recent outcomes:  [-1, -1, -1, -1, -1, -1, -1, -1, -1, -1]\n"
     ]
    },
    {
     "name": "stderr",
     "output_type": "stream",
     "text": [
      "training loop:  23% |##########                                 | ETA:  0:04:40\r"
     ]
    },
    {
     "name": "stdout",
     "output_type": "stream",
     "text": [
      "game:  241 , mean loss: 1.64 , recent outcomes:  [-1, -1, -1, -1, -1, -1, -1, -1, -1, -1]\n"
     ]
    },
    {
     "name": "stderr",
     "output_type": "stream",
     "text": [
      "training loop:  24% |##########                                 | ETA:  0:04:37\r"
     ]
    },
    {
     "name": "stdout",
     "output_type": "stream",
     "text": [
      "game:  251 , mean loss: 1.59 , recent outcomes:  [-1, -1, -1, -1, -1, -1, -1, -1, -1, -1]\n"
     ]
    },
    {
     "name": "stderr",
     "output_type": "stream",
     "text": [
      "training loop:  25% |###########                                | ETA:  0:04:35\r"
     ]
    },
    {
     "name": "stdout",
     "output_type": "stream",
     "text": [
      "game:  261 , mean loss: 1.02 , recent outcomes:  [-1, -1, -1, -1, -1, -1, -1, -1, -1, -1]\n"
     ]
    },
    {
     "name": "stderr",
     "output_type": "stream",
     "text": [
      "training loop:  26% |###########                                | ETA:  0:04:32\r"
     ]
    },
    {
     "name": "stdout",
     "output_type": "stream",
     "text": [
      "game:  271 , mean loss: 1.19 , recent outcomes:  [-1, -1, -1, -1, -1, -1, -1, -1, -1, -1]\n"
     ]
    },
    {
     "name": "stderr",
     "output_type": "stream",
     "text": [
      "training loop:  27% |###########                                | ETA:  0:04:29\r"
     ]
    },
    {
     "name": "stdout",
     "output_type": "stream",
     "text": [
      "game:  281 , mean loss: 2.15 , recent outcomes:  [-1, -1, -1, -1, -1, -1, -1, -1, -1, -1]\n"
     ]
    },
    {
     "name": "stderr",
     "output_type": "stream",
     "text": [
      "training loop:  28% |############                               | ETA:  0:04:26\r"
     ]
    },
    {
     "name": "stdout",
     "output_type": "stream",
     "text": [
      "game:  291 , mean loss: 1.58 , recent outcomes:  [-1, -1, -1, -1, -1, -1, -1, -1, -1, -1]\n"
     ]
    },
    {
     "name": "stderr",
     "output_type": "stream",
     "text": [
      "training loop:  29% |############                               | ETA:  0:04:24\r"
     ]
    },
    {
     "name": "stdout",
     "output_type": "stream",
     "text": [
      "game:  301 , mean loss: 0.53 , recent outcomes:  [-1, -1, -1, -1, -1, -1, -1, -1, -1, -1]\n"
     ]
    },
    {
     "name": "stderr",
     "output_type": "stream",
     "text": [
      "training loop:  30% |#############                              | ETA:  0:04:22\r"
     ]
    },
    {
     "name": "stdout",
     "output_type": "stream",
     "text": [
      "game:  311 , mean loss: 0.78 , recent outcomes:  [-1, -1, -1, -1, -1, -1, -1, -1, -1, -1]\n"
     ]
    },
    {
     "name": "stderr",
     "output_type": "stream",
     "text": [
      "training loop:  31% |#############                              | ETA:  0:04:18\r"
     ]
    },
    {
     "name": "stdout",
     "output_type": "stream",
     "text": [
      "game:  321 , mean loss: 1.16 , recent outcomes:  [-1, -1, -1, -1, -1, -1, -1, -1, -1, -1]\n"
     ]
    },
    {
     "name": "stderr",
     "output_type": "stream",
     "text": [
      "training loop:  32% |##############                             | ETA:  0:04:14\r"
     ]
    },
    {
     "name": "stdout",
     "output_type": "stream",
     "text": [
      "game:  331 , mean loss: 1.16 , recent outcomes:  [-1, -1, -1, -1, -1, -1, -1, -1, -1, -1]\n"
     ]
    },
    {
     "name": "stderr",
     "output_type": "stream",
     "text": [
      "training loop:  33% |##############                             | ETA:  0:04:11\r"
     ]
    },
    {
     "name": "stdout",
     "output_type": "stream",
     "text": [
      "game:  341 , mean loss: 1.15 , recent outcomes:  [-1, -1, -1, -1, -1, -1, -1, -1, -1, -1]\n"
     ]
    },
    {
     "name": "stderr",
     "output_type": "stream",
     "text": [
      "training loop:  34% |##############                             | ETA:  0:04:07\r"
     ]
    },
    {
     "name": "stdout",
     "output_type": "stream",
     "text": [
      "game:  351 , mean loss: 0.98 , recent outcomes:  [-1, -1, -1, -1, -1, -1, -1, -1, -1, -1]\n"
     ]
    },
    {
     "name": "stderr",
     "output_type": "stream",
     "text": [
      "training loop:  35% |###############                            | ETA:  0:04:04\r"
     ]
    },
    {
     "name": "stdout",
     "output_type": "stream",
     "text": [
      "game:  361 , mean loss: 0.82 , recent outcomes:  [-1, -1, -1, -1, -1, -1, -1, -1, -1, -1]\n"
     ]
    },
    {
     "name": "stderr",
     "output_type": "stream",
     "text": [
      "training loop:  36% |###############                            | ETA:  0:04:01\r"
     ]
    },
    {
     "name": "stdout",
     "output_type": "stream",
     "text": [
      "game:  371 , mean loss: 1.07 , recent outcomes:  [-1, -1, -1, -1, -1, -1, -1, -1, -1, -1]\n"
     ]
    },
    {
     "name": "stderr",
     "output_type": "stream",
     "text": [
      "training loop:  37% |################                           | ETA:  0:03:56\r"
     ]
    },
    {
     "name": "stdout",
     "output_type": "stream",
     "text": [
      "game:  381 , mean loss: 0.63 , recent outcomes:  [-1, -1, -1, -1, -1, -1, -1, -1, -1, -1]\n"
     ]
    },
    {
     "name": "stderr",
     "output_type": "stream",
     "text": [
      "training loop:  38% |################                           | ETA:  0:03:52\r"
     ]
    },
    {
     "name": "stdout",
     "output_type": "stream",
     "text": [
      "game:  391 , mean loss: 0.17 , recent outcomes:  [-1, -1, -1, -1, -1, -1, -1, -1, -1, -1]\n"
     ]
    },
    {
     "name": "stderr",
     "output_type": "stream",
     "text": [
      "training loop:  39% |#################                          | ETA:  0:03:49\r"
     ]
    },
    {
     "name": "stdout",
     "output_type": "stream",
     "text": [
      "game:  401 , mean loss: 0.20 , recent outcomes:  [-1, -1, -1, -1, -1, -1, -1, -1, -1, -1]\n"
     ]
    },
    {
     "name": "stderr",
     "output_type": "stream",
     "text": [
      "training loop:  40% |#################                          | ETA:  0:03:45\r"
     ]
    },
    {
     "name": "stdout",
     "output_type": "stream",
     "text": [
      "game:  411 , mean loss: 0.22 , recent outcomes:  [-1, -1, -1, -1, -1, -1, -1, -1, -1, -1]\n"
     ]
    },
    {
     "name": "stderr",
     "output_type": "stream",
     "text": [
      "training loop:  41% |#################                          | ETA:  0:03:41\r"
     ]
    },
    {
     "name": "stdout",
     "output_type": "stream",
     "text": [
      "game:  421 , mean loss: 0.12 , recent outcomes:  [-1, -1, -1, -1, -1, -1, -1, -1, -1, -1]\n"
     ]
    },
    {
     "name": "stderr",
     "output_type": "stream",
     "text": [
      "training loop:  42% |##################                         | ETA:  0:03:37\r"
     ]
    },
    {
     "name": "stdout",
     "output_type": "stream",
     "text": [
      "game:  431 , mean loss: 0.39 , recent outcomes:  [-1, -1, -1, -1, -1, -1, -1, -1, -1, -1]\n"
     ]
    },
    {
     "name": "stderr",
     "output_type": "stream",
     "text": [
      "training loop:  43% |##################                         | ETA:  0:03:33\r"
     ]
    },
    {
     "name": "stdout",
     "output_type": "stream",
     "text": [
      "game:  441 , mean loss: 1.15 , recent outcomes:  [-1, -1, -1, -1, -1, -1, -1, -1, -1, -1]\n"
     ]
    },
    {
     "name": "stderr",
     "output_type": "stream",
     "text": [
      "training loop:  44% |###################                        | ETA:  0:03:28\r"
     ]
    },
    {
     "name": "stdout",
     "output_type": "stream",
     "text": [
      "game:  451 , mean loss: 1.24 , recent outcomes:  [-1, -1, -1, -1, -1, -1, -1, -1, -1, -1]\n"
     ]
    },
    {
     "name": "stderr",
     "output_type": "stream",
     "text": [
      "training loop:  45% |###################                        | ETA:  0:03:25\r"
     ]
    },
    {
     "name": "stdout",
     "output_type": "stream",
     "text": [
      "game:  461 , mean loss: 0.83 , recent outcomes:  [-1, -1, -1, -1, -1, -1, -1, -1, -1, -1]\n"
     ]
    },
    {
     "name": "stderr",
     "output_type": "stream",
     "text": [
      "training loop:  46% |####################                       | ETA:  0:03:21\r"
     ]
    },
    {
     "name": "stdout",
     "output_type": "stream",
     "text": [
      "game:  471 , mean loss: 0.99 , recent outcomes:  [-1, -1, -1, -1, -1, -1, -1, -1, -1, -1]\n"
     ]
    },
    {
     "name": "stderr",
     "output_type": "stream",
     "text": [
      "training loop:  47% |####################                       | ETA:  0:03:17\r"
     ]
    },
    {
     "name": "stdout",
     "output_type": "stream",
     "text": [
      "game:  481 , mean loss: 0.71 , recent outcomes:  [-1, -1, -1, -1, -1, -1, -1, -1, -1, -1]\n"
     ]
    },
    {
     "name": "stderr",
     "output_type": "stream",
     "text": [
      "training loop:  48% |####################                       | ETA:  0:03:14\r"
     ]
    },
    {
     "name": "stdout",
     "output_type": "stream",
     "text": [
      "game:  491 , mean loss: 0.20 , recent outcomes:  [-1, -1, -1, -1, -1, -1, -1, -1, -1, -1]\n"
     ]
    },
    {
     "name": "stderr",
     "output_type": "stream",
     "text": [
      "training loop:  49% |#####################                      | ETA:  0:03:10\r"
     ]
    },
    {
     "name": "stdout",
     "output_type": "stream",
     "text": [
      "game:  501 , mean loss: 0.16 , recent outcomes:  [-1, -1, -1, -1, -1, -1, -1, -1, -1, -1]\n"
     ]
    },
    {
     "name": "stderr",
     "output_type": "stream",
     "text": [
      "training loop:  50% |#####################                      | ETA:  0:03:05\r"
     ]
    },
    {
     "name": "stdout",
     "output_type": "stream",
     "text": [
      "game:  511 , mean loss: 0.12 , recent outcomes:  [-1, -1, -1, -1, -1, -1, -1, -1, -1, -1]\n"
     ]
    },
    {
     "name": "stderr",
     "output_type": "stream",
     "text": [
      "training loop:  51% |######################                     | ETA:  0:03:02\r"
     ]
    },
    {
     "name": "stdout",
     "output_type": "stream",
     "text": [
      "game:  521 , mean loss: 0.05 , recent outcomes:  [-1, -1, -1, -1, -1, -1, -1, -1, -1, -1]\n"
     ]
    },
    {
     "name": "stderr",
     "output_type": "stream",
     "text": [
      "training loop:  52% |######################                     | ETA:  0:02:59\r"
     ]
    },
    {
     "name": "stdout",
     "output_type": "stream",
     "text": [
      "game:  531 , mean loss: 0.03 , recent outcomes:  [-1, -1, -1, -1, -1, -1, -1, -1, -1, -1]\n"
     ]
    },
    {
     "name": "stderr",
     "output_type": "stream",
     "text": [
      "training loop:  53% |#######################                    | ETA:  0:02:54\r"
     ]
    },
    {
     "name": "stdout",
     "output_type": "stream",
     "text": [
      "game:  541 , mean loss: 0.03 , recent outcomes:  [-1, -1, -1, -1, -1, -1, -1, -1, -1, -1]\n"
     ]
    },
    {
     "name": "stderr",
     "output_type": "stream",
     "text": [
      "training loop:  54% |#######################                    | ETA:  0:02:51\r"
     ]
    },
    {
     "name": "stdout",
     "output_type": "stream",
     "text": [
      "game:  551 , mean loss: 0.02 , recent outcomes:  [-1, -1, -1, -1, -1, -1, -1, -1, -1, -1]\n"
     ]
    },
    {
     "name": "stderr",
     "output_type": "stream",
     "text": [
      "training loop:  55% |#######################                    | ETA:  0:02:48\r"
     ]
    },
    {
     "name": "stdout",
     "output_type": "stream",
     "text": [
      "game:  561 , mean loss: 0.03 , recent outcomes:  [-1, -1, -1, -1, -1, -1, -1, -1, -1, -1]\n"
     ]
    },
    {
     "name": "stderr",
     "output_type": "stream",
     "text": [
      "training loop:  56% |########################                   | ETA:  0:02:44\r"
     ]
    },
    {
     "name": "stdout",
     "output_type": "stream",
     "text": [
      "game:  571 , mean loss: 0.03 , recent outcomes:  [-1, -1, -1, -1, -1, -1, -1, -1, -1, -1]\n"
     ]
    },
    {
     "name": "stderr",
     "output_type": "stream",
     "text": [
      "training loop:  57% |########################                   | ETA:  0:02:39\r"
     ]
    },
    {
     "name": "stdout",
     "output_type": "stream",
     "text": [
      "game:  581 , mean loss: 0.02 , recent outcomes:  [-1, -1, -1, -1, -1, -1, -1, -1, -1, -1]\n"
     ]
    },
    {
     "name": "stderr",
     "output_type": "stream",
     "text": [
      "training loop:  58% |#########################                  | ETA:  0:02:36\r"
     ]
    },
    {
     "name": "stdout",
     "output_type": "stream",
     "text": [
      "game:  591 , mean loss: 0.02 , recent outcomes:  [-1, -1, -1, -1, -1, -1, -1, -1, -1, -1]\n"
     ]
    },
    {
     "name": "stderr",
     "output_type": "stream",
     "text": [
      "training loop:  59% |#########################                  | ETA:  0:02:32\r"
     ]
    },
    {
     "name": "stdout",
     "output_type": "stream",
     "text": [
      "game:  601 , mean loss: 0.03 , recent outcomes:  [-1, -1, -1, -1, -1, -1, -1, -1, -1, -1]\n"
     ]
    },
    {
     "name": "stderr",
     "output_type": "stream",
     "text": [
      "training loop:  60% |##########################                 | ETA:  0:02:28\r"
     ]
    },
    {
     "name": "stdout",
     "output_type": "stream",
     "text": [
      "game:  611 , mean loss: 0.03 , recent outcomes:  [-1, -1, -1, -1, -1, -1, -1, -1, -1, -1]\n"
     ]
    },
    {
     "name": "stderr",
     "output_type": "stream",
     "text": [
      "training loop:  61% |##########################                 | ETA:  0:02:24\r"
     ]
    },
    {
     "name": "stdout",
     "output_type": "stream",
     "text": [
      "game:  621 , mean loss: 0.02 , recent outcomes:  [-1, -1, -1, -1, -1, -1, -1, -1, -1, -1]\n"
     ]
    },
    {
     "name": "stderr",
     "output_type": "stream",
     "text": [
      "training loop:  62% |##########################                 | ETA:  0:02:21\r"
     ]
    },
    {
     "name": "stdout",
     "output_type": "stream",
     "text": [
      "game:  631 , mean loss: 0.03 , recent outcomes:  [-1, -1, -1, -1, -1, -1, -1, -1, -1, -1]\n"
     ]
    },
    {
     "name": "stderr",
     "output_type": "stream",
     "text": [
      "training loop:  63% |###########################                | ETA:  0:02:17\r"
     ]
    },
    {
     "name": "stdout",
     "output_type": "stream",
     "text": [
      "game:  641 , mean loss: 0.05 , recent outcomes:  [-1, -1, -1, -1, -1, -1, -1, -1, -1, -1]\n"
     ]
    },
    {
     "name": "stderr",
     "output_type": "stream",
     "text": [
      "training loop:  64% |###########################                | ETA:  0:02:13\r"
     ]
    },
    {
     "name": "stdout",
     "output_type": "stream",
     "text": [
      "game:  651 , mean loss: 0.04 , recent outcomes:  [-1, -1, -1, -1, -1, -1, -1, -1, -1, -1]\n"
     ]
    },
    {
     "name": "stderr",
     "output_type": "stream",
     "text": [
      "training loop:  65% |############################               | ETA:  0:02:08\r"
     ]
    },
    {
     "name": "stdout",
     "output_type": "stream",
     "text": [
      "game:  661 , mean loss: 0.04 , recent outcomes:  [-1, -1, -1, -1, -1, -1, -1, -1, -1, -1]\n"
     ]
    },
    {
     "name": "stderr",
     "output_type": "stream",
     "text": [
      "training loop:  66% |############################               | ETA:  0:02:05\r"
     ]
    },
    {
     "name": "stdout",
     "output_type": "stream",
     "text": [
      "game:  671 , mean loss: 0.04 , recent outcomes:  [-1, -1, -1, -1, -1, -1, -1, -1, -1, -1]\n"
     ]
    },
    {
     "name": "stderr",
     "output_type": "stream",
     "text": [
      "training loop:  67% |#############################              | ETA:  0:02:02\r"
     ]
    },
    {
     "name": "stdout",
     "output_type": "stream",
     "text": [
      "game:  681 , mean loss: 0.03 , recent outcomes:  [-1, -1, -1, -1, -1, -1, -1, -1, -1, -1]\n"
     ]
    },
    {
     "name": "stderr",
     "output_type": "stream",
     "text": [
      "training loop:  68% |#############################              | ETA:  0:01:58\r"
     ]
    },
    {
     "name": "stdout",
     "output_type": "stream",
     "text": [
      "game:  691 , mean loss: 0.07 , recent outcomes:  [-1, -1, -1, -1, -1, -1, -1, -1, -1, -1]\n"
     ]
    },
    {
     "name": "stderr",
     "output_type": "stream",
     "text": [
      "training loop:  69% |#############################              | ETA:  0:01:53\r"
     ]
    },
    {
     "name": "stdout",
     "output_type": "stream",
     "text": [
      "game:  701 , mean loss: 0.07 , recent outcomes:  [-1, -1, -1, -1, -1, -1, -1, -1, -1, -1]\n"
     ]
    },
    {
     "name": "stderr",
     "output_type": "stream",
     "text": [
      "training loop:  70% |##############################             | ETA:  0:01:50\r"
     ]
    },
    {
     "name": "stdout",
     "output_type": "stream",
     "text": [
      "game:  711 , mean loss: 0.02 , recent outcomes:  [-1, -1, -1, -1, -1, -1, -1, -1, -1, -1]\n"
     ]
    },
    {
     "name": "stderr",
     "output_type": "stream",
     "text": [
      "training loop:  71% |##############################             | ETA:  0:01:47\r"
     ]
    },
    {
     "name": "stdout",
     "output_type": "stream",
     "text": [
      "game:  721 , mean loss: 0.13 , recent outcomes:  [-1, -1, -1, -1, -1, -1, -1, -1, -1, -1]\n"
     ]
    },
    {
     "name": "stderr",
     "output_type": "stream",
     "text": [
      "training loop:  72% |###############################            | ETA:  0:01:42\r"
     ]
    },
    {
     "name": "stdout",
     "output_type": "stream",
     "text": [
      "game:  731 , mean loss: 0.13 , recent outcomes:  [-1, -1, -1, -1, -1, -1, -1, -1, -1, -1]\n"
     ]
    },
    {
     "name": "stderr",
     "output_type": "stream",
     "text": [
      "training loop:  73% |###############################            | ETA:  0:01:39\r"
     ]
    },
    {
     "name": "stdout",
     "output_type": "stream",
     "text": [
      "game:  741 , mean loss: 0.03 , recent outcomes:  [-1, -1, -1, -1, -1, -1, -1, -1, -1, -1]\n"
     ]
    },
    {
     "name": "stderr",
     "output_type": "stream",
     "text": [
      "training loop:  74% |################################           | ETA:  0:01:35\r"
     ]
    },
    {
     "name": "stdout",
     "output_type": "stream",
     "text": [
      "game:  751 , mean loss: 0.05 , recent outcomes:  [-1, -1, -1, -1, -1, -1, -1, -1, -1, -1]\n"
     ]
    },
    {
     "name": "stderr",
     "output_type": "stream",
     "text": [
      "training loop:  75% |################################           | ETA:  0:01:31\r"
     ]
    },
    {
     "name": "stdout",
     "output_type": "stream",
     "text": [
      "game:  761 , mean loss: 0.04 , recent outcomes:  [-1, -1, -1, -1, -1, -1, -1, -1, -1, -1]\n"
     ]
    },
    {
     "name": "stderr",
     "output_type": "stream",
     "text": [
      "training loop:  76% |################################           | ETA:  0:01:28\r"
     ]
    },
    {
     "name": "stdout",
     "output_type": "stream",
     "text": [
      "game:  771 , mean loss: 0.03 , recent outcomes:  [-1, -1, -1, -1, -1, -1, -1, -1, -1, -1]\n"
     ]
    },
    {
     "name": "stderr",
     "output_type": "stream",
     "text": [
      "training loop:  77% |#################################          | ETA:  0:01:24\r"
     ]
    },
    {
     "name": "stdout",
     "output_type": "stream",
     "text": [
      "game:  781 , mean loss: 0.02 , recent outcomes:  [-1, -1, -1, -1, -1, -1, -1, -1, -1, -1]\n"
     ]
    },
    {
     "name": "stderr",
     "output_type": "stream",
     "text": [
      "training loop:  78% |#################################          | ETA:  0:01:20\r"
     ]
    },
    {
     "name": "stdout",
     "output_type": "stream",
     "text": [
      "game:  791 , mean loss: 0.01 , recent outcomes:  [-1, -1, -1, -1, -1, -1, -1, -1, -1, -1]\n"
     ]
    },
    {
     "name": "stderr",
     "output_type": "stream",
     "text": [
      "training loop:  79% |##################################         | ETA:  0:01:16\r"
     ]
    },
    {
     "name": "stdout",
     "output_type": "stream",
     "text": [
      "game:  801 , mean loss: 0.01 , recent outcomes:  [-1, -1, -1, -1, -1, -1, -1, -1, -1, -1]\n"
     ]
    },
    {
     "name": "stderr",
     "output_type": "stream",
     "text": [
      "training loop:  80% |##################################         | ETA:  0:01:13\r"
     ]
    },
    {
     "name": "stdout",
     "output_type": "stream",
     "text": [
      "game:  811 , mean loss: 0.02 , recent outcomes:  [-1, -1, -1, -1, -1, -1, -1, -1, -1, -1]\n"
     ]
    },
    {
     "name": "stderr",
     "output_type": "stream",
     "text": [
      "training loop:  81% |###################################        | ETA:  0:01:09\r"
     ]
    },
    {
     "name": "stdout",
     "output_type": "stream",
     "text": [
      "game:  821 , mean loss: 0.03 , recent outcomes:  [-1, -1, -1, -1, -1, -1, -1, -1, -1, -1]\n"
     ]
    },
    {
     "name": "stderr",
     "output_type": "stream",
     "text": [
      "training loop:  82% |###################################        | ETA:  0:01:05\r"
     ]
    },
    {
     "name": "stdout",
     "output_type": "stream",
     "text": [
      "game:  831 , mean loss: 0.02 , recent outcomes:  [-1, -1, -1, -1, -1, -1, -1, -1, -1, -1]\n"
     ]
    },
    {
     "name": "stderr",
     "output_type": "stream",
     "text": [
      "training loop:  83% |###################################        | ETA:  0:01:02\r"
     ]
    },
    {
     "name": "stdout",
     "output_type": "stream",
     "text": [
      "game:  841 , mean loss: 0.03 , recent outcomes:  [-1, -1, -1, -1, -1, -1, -1, -1, -1, -1]\n"
     ]
    },
    {
     "name": "stderr",
     "output_type": "stream",
     "text": [
      "training loop:  84% |####################################       | ETA:  0:00:57\r"
     ]
    },
    {
     "name": "stdout",
     "output_type": "stream",
     "text": [
      "game:  851 , mean loss: 0.02 , recent outcomes:  [-1, -1, -1, -1, -1, -1, -1, -1, -1, -1]\n"
     ]
    },
    {
     "name": "stderr",
     "output_type": "stream",
     "text": [
      "training loop:  85% |####################################       | ETA:  0:00:54\r"
     ]
    },
    {
     "name": "stdout",
     "output_type": "stream",
     "text": [
      "game:  861 , mean loss: 0.01 , recent outcomes:  [-1, -1, -1, -1, -1, -1, -1, -1, -1, -1]\n"
     ]
    },
    {
     "name": "stderr",
     "output_type": "stream",
     "text": [
      "training loop:  86% |#####################################      | ETA:  0:00:51\r"
     ]
    },
    {
     "name": "stdout",
     "output_type": "stream",
     "text": [
      "game:  871 , mean loss: 0.03 , recent outcomes:  [-1, -1, -1, -1, -1, -1, -1, -1, -1, -1]\n"
     ]
    },
    {
     "name": "stderr",
     "output_type": "stream",
     "text": [
      "training loop:  87% |#####################################      | ETA:  0:00:46\r"
     ]
    },
    {
     "name": "stdout",
     "output_type": "stream",
     "text": [
      "game:  881 , mean loss: 0.04 , recent outcomes:  [-1, -1, -1, -1, -1, -1, -1, -1, -1, -1]\n"
     ]
    },
    {
     "name": "stderr",
     "output_type": "stream",
     "text": [
      "training loop:  88% |#####################################      | ETA:  0:00:43\r"
     ]
    },
    {
     "name": "stdout",
     "output_type": "stream",
     "text": [
      "game:  891 , mean loss: 0.04 , recent outcomes:  [-1, -1, -1, -1, -1, -1, -1, -1, -1, -1]\n"
     ]
    },
    {
     "name": "stderr",
     "output_type": "stream",
     "text": [
      "training loop:  89% |######################################     | ETA:  0:00:39\r"
     ]
    },
    {
     "name": "stdout",
     "output_type": "stream",
     "text": [
      "game:  901 , mean loss: 0.04 , recent outcomes:  [-1, -1, -1, -1, -1, -1, -1, -1, -1, -1]\n"
     ]
    },
    {
     "name": "stderr",
     "output_type": "stream",
     "text": [
      "training loop:  90% |######################################     | ETA:  0:00:35\r"
     ]
    },
    {
     "name": "stdout",
     "output_type": "stream",
     "text": [
      "game:  911 , mean loss: 0.32 , recent outcomes:  [-1, -1, -1, -1, -1, -1, -1, -1, -1, -1]\n"
     ]
    },
    {
     "name": "stderr",
     "output_type": "stream",
     "text": [
      "training loop:  91% |#######################################    | ETA:  0:00:32\r"
     ]
    },
    {
     "name": "stdout",
     "output_type": "stream",
     "text": [
      "game:  921 , mean loss: 0.50 , recent outcomes:  [-1, -1, -1, -1, -1, -1, -1, -1, -1, -1]\n"
     ]
    },
    {
     "name": "stderr",
     "output_type": "stream",
     "text": [
      "training loop:  92% |#######################################    | ETA:  0:00:28\r"
     ]
    },
    {
     "name": "stdout",
     "output_type": "stream",
     "text": [
      "game:  931 , mean loss: 0.71 , recent outcomes:  [-1, -1, -1, -1, -1, -1, -1, -1, -1, -1]\n"
     ]
    },
    {
     "name": "stderr",
     "output_type": "stream",
     "text": [
      "training loop:  93% |########################################   | ETA:  0:00:24\r"
     ]
    },
    {
     "name": "stdout",
     "output_type": "stream",
     "text": [
      "game:  941 , mean loss: 1.07 , recent outcomes:  [-1, -1, -1, -1, -1, -1, -1, -1, -1, -1]\n"
     ]
    },
    {
     "name": "stderr",
     "output_type": "stream",
     "text": [
      "training loop:  94% |########################################   | ETA:  0:00:21\r"
     ]
    },
    {
     "name": "stdout",
     "output_type": "stream",
     "text": [
      "game:  951 , mean loss: 1.12 , recent outcomes:  [-1, -1, -1, -1, -1, -1, -1, -1, -1, -1]\n"
     ]
    },
    {
     "name": "stderr",
     "output_type": "stream",
     "text": [
      "training loop:  95% |#########################################  | ETA:  0:00:16\r"
     ]
    },
    {
     "name": "stdout",
     "output_type": "stream",
     "text": [
      "game:  961 , mean loss: 0.73 , recent outcomes:  [-1, -1, -1, -1, -1, -1, -1, -1, -1, -1]\n"
     ]
    },
    {
     "name": "stderr",
     "output_type": "stream",
     "text": [
      "training loop:  96% |#########################################  | ETA:  0:00:13\r"
     ]
    },
    {
     "name": "stdout",
     "output_type": "stream",
     "text": [
      "game:  971 , mean loss: 0.93 , recent outcomes:  [-1, -1, -1, -1, -1, -1, -1, -1, -1, -1]\n"
     ]
    },
    {
     "name": "stderr",
     "output_type": "stream",
     "text": [
      "training loop:  97% |#########################################  | ETA:  0:00:10\r"
     ]
    },
    {
     "name": "stdout",
     "output_type": "stream",
     "text": [
      "game:  981 , mean loss: 2.05 , recent outcomes:  [-1, -1, -1, -1, -1, -1, -1, -1, -1, -1]\n"
     ]
    },
    {
     "name": "stderr",
     "output_type": "stream",
     "text": [
      "training loop:  98% |########################################## | ETA:  0:00:05\r"
     ]
    },
    {
     "name": "stdout",
     "output_type": "stream",
     "text": [
      "game:  991 , mean loss: 1.56 , recent outcomes:  [-1, -1, -1, -1, -1, -1, -1, -1, -1, -1]\n"
     ]
    },
    {
     "name": "stderr",
     "output_type": "stream",
     "text": [
      "training loop:  99% |########################################## | ETA:  0:00:02\r"
     ]
    },
    {
     "name": "stdout",
     "output_type": "stream",
     "text": [
      "game:  1001 , mean loss: 0.92 , recent outcomes:  [-1, -1, -1, -1, -1, -1, -1, -1, -1, -1]\n"
     ]
    },
    {
     "name": "stderr",
     "output_type": "stream",
     "text": [
      "training loop: 100% |###########################################| Time: 0:06:19\n"
     ]
    }
   ],
   "source": [
    "# train our agent\n",
    "import MCTS\n",
    "import numpy as np\n",
    "import torch\n",
    "# try a higher number\n",
    "episodes = 1005\n",
    "\n",
    "import progressbar as pb\n",
    "widget = ['training loop: ', pb.Percentage(), ' ', \n",
    "          pb.Bar(), ' ', pb.ETA() ]\n",
    "timer = pb.ProgressBar(widgets=widget, maxval=episodes).start()\n",
    "\n",
    "outcomes = []\n",
    "losses = []\n",
    "\n",
    "Nmax = 1000\n",
    "\n",
    "for e in range(episodes):\n",
    "    \n",
    "    mytree = MCTS.Node(game)\n",
    "    vterm = []\n",
    "    logterm = []\n",
    "    \n",
    "    while mytree.outcome is None:\n",
    "        mytree, vterm, logterm = mytree.step(policy, vterm, logterm)\n",
    "        \n",
    "    outcome = mytree.outcome\n",
    "    loss = policy.optimize(mytree,vterm,logterm)\n",
    "    outcomes.append(outcome)\n",
    "    losses.append(loss)\n",
    "    \n",
    "    \n",
    "    if e%10==0:\n",
    "        print(\"game: \",e+1, \", mean loss: {:3.2f}\".format(np.mean(losses[-20:])),\n",
    "              \", recent outcomes: \", outcomes[-10:])\n",
    "    \n",
    "    if e%500==0:\n",
    "        torch.save(policy,'./policy/6-6-4-pie-{:d}.mypolicy'.format(e))\n",
    "    del loss\n",
    "    \n",
    "    timer.update(e+1)\n",
    "    \n",
    "timer.finish()\n",
    "\n",
    "\n",
    "\n"
   ]
  },
  {
   "cell_type": "markdown",
   "metadata": {},
   "source": [
    "# setup environment to pit your AI against the challenge policy '6-6-4-pie.policy'"
   ]
  },
  {
   "cell_type": "code",
   "execution_count": 32,
   "metadata": {},
   "outputs": [],
   "source": [
    "challenge_policy = torch.load('./policy/6-6-4-pie-0.mypolicy')\n",
    "\n",
    "def Challenge_Player_MCTS(game):\n",
    "    mytree = MCTS.Node(copy(game))\n",
    "    for _ in range(1000):\n",
    "        mytree.explore(challenge_policy)\n",
    "       \n",
    "    mytreenext, (v, nn_v, p, nn_p) = mytree.next(temperature=0.1)\n",
    "    \n",
    "    return mytreenext.game.last_move\n",
    "\n"
   ]
  },
  {
   "cell_type": "markdown",
   "metadata": {},
   "source": [
    "# Let the game begin!"
   ]
  },
  {
   "cell_type": "code",
   "execution_count": 33,
   "metadata": {
    "scrolled": true
   },
   "outputs": [
    {
     "data": {
      "application/javascript": [
       "/* Put everything inside the global mpl namespace */\n",
       "window.mpl = {};\n",
       "\n",
       "\n",
       "mpl.get_websocket_type = function() {\n",
       "    if (typeof(WebSocket) !== 'undefined') {\n",
       "        return WebSocket;\n",
       "    } else if (typeof(MozWebSocket) !== 'undefined') {\n",
       "        return MozWebSocket;\n",
       "    } else {\n",
       "        alert('Your browser does not have WebSocket support.' +\n",
       "              'Please try Chrome, Safari or Firefox ≥ 6. ' +\n",
       "              'Firefox 4 and 5 are also supported but you ' +\n",
       "              'have to enable WebSockets in about:config.');\n",
       "    };\n",
       "}\n",
       "\n",
       "mpl.figure = function(figure_id, websocket, ondownload, parent_element) {\n",
       "    this.id = figure_id;\n",
       "\n",
       "    this.ws = websocket;\n",
       "\n",
       "    this.supports_binary = (this.ws.binaryType != undefined);\n",
       "\n",
       "    if (!this.supports_binary) {\n",
       "        var warnings = document.getElementById(\"mpl-warnings\");\n",
       "        if (warnings) {\n",
       "            warnings.style.display = 'block';\n",
       "            warnings.textContent = (\n",
       "                \"This browser does not support binary websocket messages. \" +\n",
       "                    \"Performance may be slow.\");\n",
       "        }\n",
       "    }\n",
       "\n",
       "    this.imageObj = new Image();\n",
       "\n",
       "    this.context = undefined;\n",
       "    this.message = undefined;\n",
       "    this.canvas = undefined;\n",
       "    this.rubberband_canvas = undefined;\n",
       "    this.rubberband_context = undefined;\n",
       "    this.format_dropdown = undefined;\n",
       "\n",
       "    this.image_mode = 'full';\n",
       "\n",
       "    this.root = $('<div/>');\n",
       "    this._root_extra_style(this.root)\n",
       "    this.root.attr('style', 'display: inline-block');\n",
       "\n",
       "    $(parent_element).append(this.root);\n",
       "\n",
       "    this._init_header(this);\n",
       "    this._init_canvas(this);\n",
       "    this._init_toolbar(this);\n",
       "\n",
       "    var fig = this;\n",
       "\n",
       "    this.waiting = false;\n",
       "\n",
       "    this.ws.onopen =  function () {\n",
       "            fig.send_message(\"supports_binary\", {value: fig.supports_binary});\n",
       "            fig.send_message(\"send_image_mode\", {});\n",
       "            if (mpl.ratio != 1) {\n",
       "                fig.send_message(\"set_dpi_ratio\", {'dpi_ratio': mpl.ratio});\n",
       "            }\n",
       "            fig.send_message(\"refresh\", {});\n",
       "        }\n",
       "\n",
       "    this.imageObj.onload = function() {\n",
       "            if (fig.image_mode == 'full') {\n",
       "                // Full images could contain transparency (where diff images\n",
       "                // almost always do), so we need to clear the canvas so that\n",
       "                // there is no ghosting.\n",
       "                fig.context.clearRect(0, 0, fig.canvas.width, fig.canvas.height);\n",
       "            }\n",
       "            fig.context.drawImage(fig.imageObj, 0, 0);\n",
       "        };\n",
       "\n",
       "    this.imageObj.onunload = function() {\n",
       "        fig.ws.close();\n",
       "    }\n",
       "\n",
       "    this.ws.onmessage = this._make_on_message_function(this);\n",
       "\n",
       "    this.ondownload = ondownload;\n",
       "}\n",
       "\n",
       "mpl.figure.prototype._init_header = function() {\n",
       "    var titlebar = $(\n",
       "        '<div class=\"ui-dialog-titlebar ui-widget-header ui-corner-all ' +\n",
       "        'ui-helper-clearfix\"/>');\n",
       "    var titletext = $(\n",
       "        '<div class=\"ui-dialog-title\" style=\"width: 100%; ' +\n",
       "        'text-align: center; padding: 3px;\"/>');\n",
       "    titlebar.append(titletext)\n",
       "    this.root.append(titlebar);\n",
       "    this.header = titletext[0];\n",
       "}\n",
       "\n",
       "\n",
       "\n",
       "mpl.figure.prototype._canvas_extra_style = function(canvas_div) {\n",
       "\n",
       "}\n",
       "\n",
       "\n",
       "mpl.figure.prototype._root_extra_style = function(canvas_div) {\n",
       "\n",
       "}\n",
       "\n",
       "mpl.figure.prototype._init_canvas = function() {\n",
       "    var fig = this;\n",
       "\n",
       "    var canvas_div = $('<div/>');\n",
       "\n",
       "    canvas_div.attr('style', 'position: relative; clear: both; outline: 0');\n",
       "\n",
       "    function canvas_keyboard_event(event) {\n",
       "        return fig.key_event(event, event['data']);\n",
       "    }\n",
       "\n",
       "    canvas_div.keydown('key_press', canvas_keyboard_event);\n",
       "    canvas_div.keyup('key_release', canvas_keyboard_event);\n",
       "    this.canvas_div = canvas_div\n",
       "    this._canvas_extra_style(canvas_div)\n",
       "    this.root.append(canvas_div);\n",
       "\n",
       "    var canvas = $('<canvas/>');\n",
       "    canvas.addClass('mpl-canvas');\n",
       "    canvas.attr('style', \"left: 0; top: 0; z-index: 0; outline: 0\")\n",
       "\n",
       "    this.canvas = canvas[0];\n",
       "    this.context = canvas[0].getContext(\"2d\");\n",
       "\n",
       "    var backingStore = this.context.backingStorePixelRatio ||\n",
       "\tthis.context.webkitBackingStorePixelRatio ||\n",
       "\tthis.context.mozBackingStorePixelRatio ||\n",
       "\tthis.context.msBackingStorePixelRatio ||\n",
       "\tthis.context.oBackingStorePixelRatio ||\n",
       "\tthis.context.backingStorePixelRatio || 1;\n",
       "\n",
       "    mpl.ratio = (window.devicePixelRatio || 1) / backingStore;\n",
       "\n",
       "    var rubberband = $('<canvas/>');\n",
       "    rubberband.attr('style', \"position: absolute; left: 0; top: 0; z-index: 1;\")\n",
       "\n",
       "    var pass_mouse_events = true;\n",
       "\n",
       "    canvas_div.resizable({\n",
       "        start: function(event, ui) {\n",
       "            pass_mouse_events = false;\n",
       "        },\n",
       "        resize: function(event, ui) {\n",
       "            fig.request_resize(ui.size.width, ui.size.height);\n",
       "        },\n",
       "        stop: function(event, ui) {\n",
       "            pass_mouse_events = true;\n",
       "            fig.request_resize(ui.size.width, ui.size.height);\n",
       "        },\n",
       "    });\n",
       "\n",
       "    function mouse_event_fn(event) {\n",
       "        if (pass_mouse_events)\n",
       "            return fig.mouse_event(event, event['data']);\n",
       "    }\n",
       "\n",
       "    rubberband.mousedown('button_press', mouse_event_fn);\n",
       "    rubberband.mouseup('button_release', mouse_event_fn);\n",
       "    // Throttle sequential mouse events to 1 every 20ms.\n",
       "    rubberband.mousemove('motion_notify', mouse_event_fn);\n",
       "\n",
       "    rubberband.mouseenter('figure_enter', mouse_event_fn);\n",
       "    rubberband.mouseleave('figure_leave', mouse_event_fn);\n",
       "\n",
       "    canvas_div.on(\"wheel\", function (event) {\n",
       "        event = event.originalEvent;\n",
       "        event['data'] = 'scroll'\n",
       "        if (event.deltaY < 0) {\n",
       "            event.step = 1;\n",
       "        } else {\n",
       "            event.step = -1;\n",
       "        }\n",
       "        mouse_event_fn(event);\n",
       "    });\n",
       "\n",
       "    canvas_div.append(canvas);\n",
       "    canvas_div.append(rubberband);\n",
       "\n",
       "    this.rubberband = rubberband;\n",
       "    this.rubberband_canvas = rubberband[0];\n",
       "    this.rubberband_context = rubberband[0].getContext(\"2d\");\n",
       "    this.rubberband_context.strokeStyle = \"#000000\";\n",
       "\n",
       "    this._resize_canvas = function(width, height) {\n",
       "        // Keep the size of the canvas, canvas container, and rubber band\n",
       "        // canvas in synch.\n",
       "        canvas_div.css('width', width)\n",
       "        canvas_div.css('height', height)\n",
       "\n",
       "        canvas.attr('width', width * mpl.ratio);\n",
       "        canvas.attr('height', height * mpl.ratio);\n",
       "        canvas.attr('style', 'width: ' + width + 'px; height: ' + height + 'px;');\n",
       "\n",
       "        rubberband.attr('width', width);\n",
       "        rubberband.attr('height', height);\n",
       "    }\n",
       "\n",
       "    // Set the figure to an initial 600x600px, this will subsequently be updated\n",
       "    // upon first draw.\n",
       "    this._resize_canvas(600, 600);\n",
       "\n",
       "    // Disable right mouse context menu.\n",
       "    $(this.rubberband_canvas).bind(\"contextmenu\",function(e){\n",
       "        return false;\n",
       "    });\n",
       "\n",
       "    function set_focus () {\n",
       "        canvas.focus();\n",
       "        canvas_div.focus();\n",
       "    }\n",
       "\n",
       "    window.setTimeout(set_focus, 100);\n",
       "}\n",
       "\n",
       "mpl.figure.prototype._init_toolbar = function() {\n",
       "    var fig = this;\n",
       "\n",
       "    var nav_element = $('<div/>')\n",
       "    nav_element.attr('style', 'width: 100%');\n",
       "    this.root.append(nav_element);\n",
       "\n",
       "    // Define a callback function for later on.\n",
       "    function toolbar_event(event) {\n",
       "        return fig.toolbar_button_onclick(event['data']);\n",
       "    }\n",
       "    function toolbar_mouse_event(event) {\n",
       "        return fig.toolbar_button_onmouseover(event['data']);\n",
       "    }\n",
       "\n",
       "    for(var toolbar_ind in mpl.toolbar_items) {\n",
       "        var name = mpl.toolbar_items[toolbar_ind][0];\n",
       "        var tooltip = mpl.toolbar_items[toolbar_ind][1];\n",
       "        var image = mpl.toolbar_items[toolbar_ind][2];\n",
       "        var method_name = mpl.toolbar_items[toolbar_ind][3];\n",
       "\n",
       "        if (!name) {\n",
       "            // put a spacer in here.\n",
       "            continue;\n",
       "        }\n",
       "        var button = $('<button/>');\n",
       "        button.addClass('ui-button ui-widget ui-state-default ui-corner-all ' +\n",
       "                        'ui-button-icon-only');\n",
       "        button.attr('role', 'button');\n",
       "        button.attr('aria-disabled', 'false');\n",
       "        button.click(method_name, toolbar_event);\n",
       "        button.mouseover(tooltip, toolbar_mouse_event);\n",
       "\n",
       "        var icon_img = $('<span/>');\n",
       "        icon_img.addClass('ui-button-icon-primary ui-icon');\n",
       "        icon_img.addClass(image);\n",
       "        icon_img.addClass('ui-corner-all');\n",
       "\n",
       "        var tooltip_span = $('<span/>');\n",
       "        tooltip_span.addClass('ui-button-text');\n",
       "        tooltip_span.html(tooltip);\n",
       "\n",
       "        button.append(icon_img);\n",
       "        button.append(tooltip_span);\n",
       "\n",
       "        nav_element.append(button);\n",
       "    }\n",
       "\n",
       "    var fmt_picker_span = $('<span/>');\n",
       "\n",
       "    var fmt_picker = $('<select/>');\n",
       "    fmt_picker.addClass('mpl-toolbar-option ui-widget ui-widget-content');\n",
       "    fmt_picker_span.append(fmt_picker);\n",
       "    nav_element.append(fmt_picker_span);\n",
       "    this.format_dropdown = fmt_picker[0];\n",
       "\n",
       "    for (var ind in mpl.extensions) {\n",
       "        var fmt = mpl.extensions[ind];\n",
       "        var option = $(\n",
       "            '<option/>', {selected: fmt === mpl.default_extension}).html(fmt);\n",
       "        fmt_picker.append(option)\n",
       "    }\n",
       "\n",
       "    // Add hover states to the ui-buttons\n",
       "    $( \".ui-button\" ).hover(\n",
       "        function() { $(this).addClass(\"ui-state-hover\");},\n",
       "        function() { $(this).removeClass(\"ui-state-hover\");}\n",
       "    );\n",
       "\n",
       "    var status_bar = $('<span class=\"mpl-message\"/>');\n",
       "    nav_element.append(status_bar);\n",
       "    this.message = status_bar[0];\n",
       "}\n",
       "\n",
       "mpl.figure.prototype.request_resize = function(x_pixels, y_pixels) {\n",
       "    // Request matplotlib to resize the figure. Matplotlib will then trigger a resize in the client,\n",
       "    // which will in turn request a refresh of the image.\n",
       "    this.send_message('resize', {'width': x_pixels, 'height': y_pixels});\n",
       "}\n",
       "\n",
       "mpl.figure.prototype.send_message = function(type, properties) {\n",
       "    properties['type'] = type;\n",
       "    properties['figure_id'] = this.id;\n",
       "    this.ws.send(JSON.stringify(properties));\n",
       "}\n",
       "\n",
       "mpl.figure.prototype.send_draw_message = function() {\n",
       "    if (!this.waiting) {\n",
       "        this.waiting = true;\n",
       "        this.ws.send(JSON.stringify({type: \"draw\", figure_id: this.id}));\n",
       "    }\n",
       "}\n",
       "\n",
       "\n",
       "mpl.figure.prototype.handle_save = function(fig, msg) {\n",
       "    var format_dropdown = fig.format_dropdown;\n",
       "    var format = format_dropdown.options[format_dropdown.selectedIndex].value;\n",
       "    fig.ondownload(fig, format);\n",
       "}\n",
       "\n",
       "\n",
       "mpl.figure.prototype.handle_resize = function(fig, msg) {\n",
       "    var size = msg['size'];\n",
       "    if (size[0] != fig.canvas.width || size[1] != fig.canvas.height) {\n",
       "        fig._resize_canvas(size[0], size[1]);\n",
       "        fig.send_message(\"refresh\", {});\n",
       "    };\n",
       "}\n",
       "\n",
       "mpl.figure.prototype.handle_rubberband = function(fig, msg) {\n",
       "    var x0 = msg['x0'] / mpl.ratio;\n",
       "    var y0 = (fig.canvas.height - msg['y0']) / mpl.ratio;\n",
       "    var x1 = msg['x1'] / mpl.ratio;\n",
       "    var y1 = (fig.canvas.height - msg['y1']) / mpl.ratio;\n",
       "    x0 = Math.floor(x0) + 0.5;\n",
       "    y0 = Math.floor(y0) + 0.5;\n",
       "    x1 = Math.floor(x1) + 0.5;\n",
       "    y1 = Math.floor(y1) + 0.5;\n",
       "    var min_x = Math.min(x0, x1);\n",
       "    var min_y = Math.min(y0, y1);\n",
       "    var width = Math.abs(x1 - x0);\n",
       "    var height = Math.abs(y1 - y0);\n",
       "\n",
       "    fig.rubberband_context.clearRect(\n",
       "        0, 0, fig.canvas.width, fig.canvas.height);\n",
       "\n",
       "    fig.rubberband_context.strokeRect(min_x, min_y, width, height);\n",
       "}\n",
       "\n",
       "mpl.figure.prototype.handle_figure_label = function(fig, msg) {\n",
       "    // Updates the figure title.\n",
       "    fig.header.textContent = msg['label'];\n",
       "}\n",
       "\n",
       "mpl.figure.prototype.handle_cursor = function(fig, msg) {\n",
       "    var cursor = msg['cursor'];\n",
       "    switch(cursor)\n",
       "    {\n",
       "    case 0:\n",
       "        cursor = 'pointer';\n",
       "        break;\n",
       "    case 1:\n",
       "        cursor = 'default';\n",
       "        break;\n",
       "    case 2:\n",
       "        cursor = 'crosshair';\n",
       "        break;\n",
       "    case 3:\n",
       "        cursor = 'move';\n",
       "        break;\n",
       "    }\n",
       "    fig.rubberband_canvas.style.cursor = cursor;\n",
       "}\n",
       "\n",
       "mpl.figure.prototype.handle_message = function(fig, msg) {\n",
       "    fig.message.textContent = msg['message'];\n",
       "}\n",
       "\n",
       "mpl.figure.prototype.handle_draw = function(fig, msg) {\n",
       "    // Request the server to send over a new figure.\n",
       "    fig.send_draw_message();\n",
       "}\n",
       "\n",
       "mpl.figure.prototype.handle_image_mode = function(fig, msg) {\n",
       "    fig.image_mode = msg['mode'];\n",
       "}\n",
       "\n",
       "mpl.figure.prototype.updated_canvas_event = function() {\n",
       "    // Called whenever the canvas gets updated.\n",
       "    this.send_message(\"ack\", {});\n",
       "}\n",
       "\n",
       "// A function to construct a web socket function for onmessage handling.\n",
       "// Called in the figure constructor.\n",
       "mpl.figure.prototype._make_on_message_function = function(fig) {\n",
       "    return function socket_on_message(evt) {\n",
       "        if (evt.data instanceof Blob) {\n",
       "            /* FIXME: We get \"Resource interpreted as Image but\n",
       "             * transferred with MIME type text/plain:\" errors on\n",
       "             * Chrome.  But how to set the MIME type?  It doesn't seem\n",
       "             * to be part of the websocket stream */\n",
       "            evt.data.type = \"image/png\";\n",
       "\n",
       "            /* Free the memory for the previous frames */\n",
       "            if (fig.imageObj.src) {\n",
       "                (window.URL || window.webkitURL).revokeObjectURL(\n",
       "                    fig.imageObj.src);\n",
       "            }\n",
       "\n",
       "            fig.imageObj.src = (window.URL || window.webkitURL).createObjectURL(\n",
       "                evt.data);\n",
       "            fig.updated_canvas_event();\n",
       "            fig.waiting = false;\n",
       "            return;\n",
       "        }\n",
       "        else if (typeof evt.data === 'string' && evt.data.slice(0, 21) == \"data:image/png;base64\") {\n",
       "            fig.imageObj.src = evt.data;\n",
       "            fig.updated_canvas_event();\n",
       "            fig.waiting = false;\n",
       "            return;\n",
       "        }\n",
       "\n",
       "        var msg = JSON.parse(evt.data);\n",
       "        var msg_type = msg['type'];\n",
       "\n",
       "        // Call the  \"handle_{type}\" callback, which takes\n",
       "        // the figure and JSON message as its only arguments.\n",
       "        try {\n",
       "            var callback = fig[\"handle_\" + msg_type];\n",
       "        } catch (e) {\n",
       "            console.log(\"No handler for the '\" + msg_type + \"' message type: \", msg);\n",
       "            return;\n",
       "        }\n",
       "\n",
       "        if (callback) {\n",
       "            try {\n",
       "                // console.log(\"Handling '\" + msg_type + \"' message: \", msg);\n",
       "                callback(fig, msg);\n",
       "            } catch (e) {\n",
       "                console.log(\"Exception inside the 'handler_\" + msg_type + \"' callback:\", e, e.stack, msg);\n",
       "            }\n",
       "        }\n",
       "    };\n",
       "}\n",
       "\n",
       "// from http://stackoverflow.com/questions/1114465/getting-mouse-location-in-canvas\n",
       "mpl.findpos = function(e) {\n",
       "    //this section is from http://www.quirksmode.org/js/events_properties.html\n",
       "    var targ;\n",
       "    if (!e)\n",
       "        e = window.event;\n",
       "    if (e.target)\n",
       "        targ = e.target;\n",
       "    else if (e.srcElement)\n",
       "        targ = e.srcElement;\n",
       "    if (targ.nodeType == 3) // defeat Safari bug\n",
       "        targ = targ.parentNode;\n",
       "\n",
       "    // jQuery normalizes the pageX and pageY\n",
       "    // pageX,Y are the mouse positions relative to the document\n",
       "    // offset() returns the position of the element relative to the document\n",
       "    var x = e.pageX - $(targ).offset().left;\n",
       "    var y = e.pageY - $(targ).offset().top;\n",
       "\n",
       "    return {\"x\": x, \"y\": y};\n",
       "};\n",
       "\n",
       "/*\n",
       " * return a copy of an object with only non-object keys\n",
       " * we need this to avoid circular references\n",
       " * http://stackoverflow.com/a/24161582/3208463\n",
       " */\n",
       "function simpleKeys (original) {\n",
       "  return Object.keys(original).reduce(function (obj, key) {\n",
       "    if (typeof original[key] !== 'object')\n",
       "        obj[key] = original[key]\n",
       "    return obj;\n",
       "  }, {});\n",
       "}\n",
       "\n",
       "mpl.figure.prototype.mouse_event = function(event, name) {\n",
       "    var canvas_pos = mpl.findpos(event)\n",
       "\n",
       "    if (name === 'button_press')\n",
       "    {\n",
       "        this.canvas.focus();\n",
       "        this.canvas_div.focus();\n",
       "    }\n",
       "\n",
       "    var x = canvas_pos.x * mpl.ratio;\n",
       "    var y = canvas_pos.y * mpl.ratio;\n",
       "\n",
       "    this.send_message(name, {x: x, y: y, button: event.button,\n",
       "                             step: event.step,\n",
       "                             guiEvent: simpleKeys(event)});\n",
       "\n",
       "    /* This prevents the web browser from automatically changing to\n",
       "     * the text insertion cursor when the button is pressed.  We want\n",
       "     * to control all of the cursor setting manually through the\n",
       "     * 'cursor' event from matplotlib */\n",
       "    event.preventDefault();\n",
       "    return false;\n",
       "}\n",
       "\n",
       "mpl.figure.prototype._key_event_extra = function(event, name) {\n",
       "    // Handle any extra behaviour associated with a key event\n",
       "}\n",
       "\n",
       "mpl.figure.prototype.key_event = function(event, name) {\n",
       "\n",
       "    // Prevent repeat events\n",
       "    if (name == 'key_press')\n",
       "    {\n",
       "        if (event.which === this._key)\n",
       "            return;\n",
       "        else\n",
       "            this._key = event.which;\n",
       "    }\n",
       "    if (name == 'key_release')\n",
       "        this._key = null;\n",
       "\n",
       "    var value = '';\n",
       "    if (event.ctrlKey && event.which != 17)\n",
       "        value += \"ctrl+\";\n",
       "    if (event.altKey && event.which != 18)\n",
       "        value += \"alt+\";\n",
       "    if (event.shiftKey && event.which != 16)\n",
       "        value += \"shift+\";\n",
       "\n",
       "    value += 'k';\n",
       "    value += event.which.toString();\n",
       "\n",
       "    this._key_event_extra(event, name);\n",
       "\n",
       "    this.send_message(name, {key: value,\n",
       "                             guiEvent: simpleKeys(event)});\n",
       "    return false;\n",
       "}\n",
       "\n",
       "mpl.figure.prototype.toolbar_button_onclick = function(name) {\n",
       "    if (name == 'download') {\n",
       "        this.handle_save(this, null);\n",
       "    } else {\n",
       "        this.send_message(\"toolbar_button\", {name: name});\n",
       "    }\n",
       "};\n",
       "\n",
       "mpl.figure.prototype.toolbar_button_onmouseover = function(tooltip) {\n",
       "    this.message.textContent = tooltip;\n",
       "};\n",
       "mpl.toolbar_items = [[\"Home\", \"Reset original view\", \"fa fa-home icon-home\", \"home\"], [\"Back\", \"Back to  previous view\", \"fa fa-arrow-left icon-arrow-left\", \"back\"], [\"Forward\", \"Forward to next view\", \"fa fa-arrow-right icon-arrow-right\", \"forward\"], [\"\", \"\", \"\", \"\"], [\"Pan\", \"Pan axes with left mouse, zoom with right\", \"fa fa-arrows icon-move\", \"pan\"], [\"Zoom\", \"Zoom to rectangle\", \"fa fa-square-o icon-check-empty\", \"zoom\"], [\"\", \"\", \"\", \"\"], [\"Download\", \"Download plot\", \"fa fa-floppy-o icon-save\", \"download\"]];\n",
       "\n",
       "mpl.extensions = [\"eps\", \"jpeg\", \"pdf\", \"png\", \"ps\", \"raw\", \"svg\", \"tif\"];\n",
       "\n",
       "mpl.default_extension = \"png\";var comm_websocket_adapter = function(comm) {\n",
       "    // Create a \"websocket\"-like object which calls the given IPython comm\n",
       "    // object with the appropriate methods. Currently this is a non binary\n",
       "    // socket, so there is still some room for performance tuning.\n",
       "    var ws = {};\n",
       "\n",
       "    ws.close = function() {\n",
       "        comm.close()\n",
       "    };\n",
       "    ws.send = function(m) {\n",
       "        //console.log('sending', m);\n",
       "        comm.send(m);\n",
       "    };\n",
       "    // Register the callback with on_msg.\n",
       "    comm.on_msg(function(msg) {\n",
       "        //console.log('receiving', msg['content']['data'], msg);\n",
       "        // Pass the mpl event to the overriden (by mpl) onmessage function.\n",
       "        ws.onmessage(msg['content']['data'])\n",
       "    });\n",
       "    return ws;\n",
       "}\n",
       "\n",
       "mpl.mpl_figure_comm = function(comm, msg) {\n",
       "    // This is the function which gets called when the mpl process\n",
       "    // starts-up an IPython Comm through the \"matplotlib\" channel.\n",
       "\n",
       "    var id = msg.content.data.id;\n",
       "    // Get hold of the div created by the display call when the Comm\n",
       "    // socket was opened in Python.\n",
       "    var element = $(\"#\" + id);\n",
       "    var ws_proxy = comm_websocket_adapter(comm)\n",
       "\n",
       "    function ondownload(figure, format) {\n",
       "        window.open(figure.imageObj.src);\n",
       "    }\n",
       "\n",
       "    var fig = new mpl.figure(id, ws_proxy,\n",
       "                           ondownload,\n",
       "                           element.get(0));\n",
       "\n",
       "    // Call onopen now - mpl needs it, as it is assuming we've passed it a real\n",
       "    // web socket which is closed, not our websocket->open comm proxy.\n",
       "    ws_proxy.onopen();\n",
       "\n",
       "    fig.parent_element = element.get(0);\n",
       "    fig.cell_info = mpl.find_output_cell(\"<div id='\" + id + \"'></div>\");\n",
       "    if (!fig.cell_info) {\n",
       "        console.error(\"Failed to find cell for figure\", id, fig);\n",
       "        return;\n",
       "    }\n",
       "\n",
       "    var output_index = fig.cell_info[2]\n",
       "    var cell = fig.cell_info[0];\n",
       "\n",
       "};\n",
       "\n",
       "mpl.figure.prototype.handle_close = function(fig, msg) {\n",
       "    var width = fig.canvas.width/mpl.ratio\n",
       "    fig.root.unbind('remove')\n",
       "\n",
       "    // Update the output cell to use the data from the current canvas.\n",
       "    fig.push_to_output();\n",
       "    var dataURL = fig.canvas.toDataURL();\n",
       "    // Re-enable the keyboard manager in IPython - without this line, in FF,\n",
       "    // the notebook keyboard shortcuts fail.\n",
       "    IPython.keyboard_manager.enable()\n",
       "    $(fig.parent_element).html('<img src=\"' + dataURL + '\" width=\"' + width + '\">');\n",
       "    fig.close_ws(fig, msg);\n",
       "}\n",
       "\n",
       "mpl.figure.prototype.close_ws = function(fig, msg){\n",
       "    fig.send_message('closing', msg);\n",
       "    // fig.ws.close()\n",
       "}\n",
       "\n",
       "mpl.figure.prototype.push_to_output = function(remove_interactive) {\n",
       "    // Turn the data on the canvas into data in the output cell.\n",
       "    var width = this.canvas.width/mpl.ratio\n",
       "    var dataURL = this.canvas.toDataURL();\n",
       "    this.cell_info[1]['text/html'] = '<img src=\"' + dataURL + '\" width=\"' + width + '\">';\n",
       "}\n",
       "\n",
       "mpl.figure.prototype.updated_canvas_event = function() {\n",
       "    // Tell IPython that the notebook contents must change.\n",
       "    IPython.notebook.set_dirty(true);\n",
       "    this.send_message(\"ack\", {});\n",
       "    var fig = this;\n",
       "    // Wait a second, then push the new image to the DOM so\n",
       "    // that it is saved nicely (might be nice to debounce this).\n",
       "    setTimeout(function () { fig.push_to_output() }, 1000);\n",
       "}\n",
       "\n",
       "mpl.figure.prototype._init_toolbar = function() {\n",
       "    var fig = this;\n",
       "\n",
       "    var nav_element = $('<div/>')\n",
       "    nav_element.attr('style', 'width: 100%');\n",
       "    this.root.append(nav_element);\n",
       "\n",
       "    // Define a callback function for later on.\n",
       "    function toolbar_event(event) {\n",
       "        return fig.toolbar_button_onclick(event['data']);\n",
       "    }\n",
       "    function toolbar_mouse_event(event) {\n",
       "        return fig.toolbar_button_onmouseover(event['data']);\n",
       "    }\n",
       "\n",
       "    for(var toolbar_ind in mpl.toolbar_items){\n",
       "        var name = mpl.toolbar_items[toolbar_ind][0];\n",
       "        var tooltip = mpl.toolbar_items[toolbar_ind][1];\n",
       "        var image = mpl.toolbar_items[toolbar_ind][2];\n",
       "        var method_name = mpl.toolbar_items[toolbar_ind][3];\n",
       "\n",
       "        if (!name) { continue; };\n",
       "\n",
       "        var button = $('<button class=\"btn btn-default\" href=\"#\" title=\"' + name + '\"><i class=\"fa ' + image + ' fa-lg\"></i></button>');\n",
       "        button.click(method_name, toolbar_event);\n",
       "        button.mouseover(tooltip, toolbar_mouse_event);\n",
       "        nav_element.append(button);\n",
       "    }\n",
       "\n",
       "    // Add the status bar.\n",
       "    var status_bar = $('<span class=\"mpl-message\" style=\"text-align:right; float: right;\"/>');\n",
       "    nav_element.append(status_bar);\n",
       "    this.message = status_bar[0];\n",
       "\n",
       "    // Add the close button to the window.\n",
       "    var buttongrp = $('<div class=\"btn-group inline pull-right\"></div>');\n",
       "    var button = $('<button class=\"btn btn-mini btn-primary\" href=\"#\" title=\"Stop Interaction\"><i class=\"fa fa-power-off icon-remove icon-large\"></i></button>');\n",
       "    button.click(function (evt) { fig.handle_close(fig, {}); } );\n",
       "    button.mouseover('Stop Interaction', toolbar_mouse_event);\n",
       "    buttongrp.append(button);\n",
       "    var titlebar = this.root.find($('.ui-dialog-titlebar'));\n",
       "    titlebar.prepend(buttongrp);\n",
       "}\n",
       "\n",
       "mpl.figure.prototype._root_extra_style = function(el){\n",
       "    var fig = this\n",
       "    el.on(\"remove\", function(){\n",
       "\tfig.close_ws(fig, {});\n",
       "    });\n",
       "}\n",
       "\n",
       "mpl.figure.prototype._canvas_extra_style = function(el){\n",
       "    // this is important to make the div 'focusable\n",
       "    el.attr('tabindex', 0)\n",
       "    // reach out to IPython and tell the keyboard manager to turn it's self\n",
       "    // off when our div gets focus\n",
       "\n",
       "    // location in version 3\n",
       "    if (IPython.notebook.keyboard_manager) {\n",
       "        IPython.notebook.keyboard_manager.register_events(el);\n",
       "    }\n",
       "    else {\n",
       "        // location in version 2\n",
       "        IPython.keyboard_manager.register_events(el);\n",
       "    }\n",
       "\n",
       "}\n",
       "\n",
       "mpl.figure.prototype._key_event_extra = function(event, name) {\n",
       "    var manager = IPython.notebook.keyboard_manager;\n",
       "    if (!manager)\n",
       "        manager = IPython.keyboard_manager;\n",
       "\n",
       "    // Check for shift+enter\n",
       "    if (event.shiftKey && event.which == 13) {\n",
       "        this.canvas_div.blur();\n",
       "        event.shiftKey = false;\n",
       "        // Send a \"J\" for go to next cell\n",
       "        event.which = 74;\n",
       "        event.keyCode = 74;\n",
       "        manager.command_mode();\n",
       "        manager.handle_keydown(event);\n",
       "    }\n",
       "}\n",
       "\n",
       "mpl.figure.prototype.handle_save = function(fig, msg) {\n",
       "    fig.ondownload(fig, null);\n",
       "}\n",
       "\n",
       "\n",
       "mpl.find_output_cell = function(html_output) {\n",
       "    // Return the cell and output element which can be found *uniquely* in the notebook.\n",
       "    // Note - this is a bit hacky, but it is done because the \"notebook_saving.Notebook\"\n",
       "    // IPython event is triggered only after the cells have been serialised, which for\n",
       "    // our purposes (turning an active figure into a static one), is too late.\n",
       "    var cells = IPython.notebook.get_cells();\n",
       "    var ncells = cells.length;\n",
       "    for (var i=0; i<ncells; i++) {\n",
       "        var cell = cells[i];\n",
       "        if (cell.cell_type === 'code'){\n",
       "            for (var j=0; j<cell.output_area.outputs.length; j++) {\n",
       "                var data = cell.output_area.outputs[j];\n",
       "                if (data.data) {\n",
       "                    // IPython >= 3 moved mimebundle to data attribute of output\n",
       "                    data = data.data;\n",
       "                }\n",
       "                if (data['text/html'] == html_output) {\n",
       "                    return [cell, data, j];\n",
       "                }\n",
       "            }\n",
       "        }\n",
       "    }\n",
       "}\n",
       "\n",
       "// Register the function which deals with the matplotlib target/channel.\n",
       "// The kernel may be null if the page has been refreshed.\n",
       "if (IPython.notebook.kernel != null) {\n",
       "    IPython.notebook.kernel.comm_manager.register_target('matplotlib', mpl.mpl_figure_comm);\n",
       "}\n"
      ],
      "text/plain": [
       "<IPython.core.display.Javascript object>"
      ]
     },
     "metadata": {},
     "output_type": "display_data"
    },
    {
     "data": {
      "text/html": [
       "<img src=\"data:image/png;base64,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\" width=\"285.6\">"
      ],
      "text/plain": [
       "<IPython.core.display.HTML object>"
      ]
     },
     "metadata": {},
     "output_type": "display_data"
    }
   ],
   "source": [
    "% matplotlib notebook\n",
    "gameplay=Play(ConnectN(**game_setting), \n",
    "              player2=Challenge_Player_MCTS, \n",
    "              player1=Policy_Player_MCTS)"
   ]
  }
 ],
 "metadata": {
  "kernelspec": {
   "display_name": "Python 3",
   "language": "python",
   "name": "python3"
  },
  "language_info": {
   "codemirror_mode": {
    "name": "ipython",
    "version": 3
   },
   "file_extension": ".py",
   "mimetype": "text/x-python",
   "name": "python",
   "nbconvert_exporter": "python",
   "pygments_lexer": "ipython3",
   "version": "3.6.13"
  }
 },
 "nbformat": 4,
 "nbformat_minor": 2
}
