{
 "cells": [
  {
   "cell_type": "markdown",
   "metadata": {},
   "source": [
    "# Continuous Control\n",
    "\n",
    "---\n",
    "\n",
    "In this notebook, you will learn how to use the Unity ML-Agents environment for the second project of the [Deep Reinforcement Learning Nanodegree](https://www.udacity.com/course/deep-reinforcement-learning-nanodegree--nd893) program.\n",
    "\n",
    "### 1. Start the Environment\n",
    "\n",
    "We begin by importing the necessary packages.  If the code cell below returns an error, please revisit the project instructions to double-check that you have installed [Unity ML-Agents](https://github.com/Unity-Technologies/ml-agents/blob/master/docs/Installation.md) and [NumPy](http://www.numpy.org/)."
   ]
  },
  {
   "cell_type": "code",
   "execution_count": 1,
   "metadata": {},
   "outputs": [],
   "source": [
    "from unityagents import UnityEnvironment\n",
    "import numpy as np\n",
    "import random\n",
    "import torch\n",
    "from collections import deque\n",
    "import matplotlib.pyplot as plt\n",
    "%matplotlib inline"
   ]
  },
  {
   "cell_type": "markdown",
   "metadata": {},
   "source": [
    "Next, we will start the environment!  **_Before running the code cell below_**, change the `file_name` parameter to match the location of the Unity environment that you downloaded.\n",
    "\n",
    "- **Mac**: `\"path/to/Reacher.app\"`\n",
    "- **Windows** (x86): `\"path/to/Reacher_Windows_x86/Reacher.exe\"`\n",
    "- **Windows** (x86_64): `\"path/to/Reacher_Windows_x86_64/Reacher.exe\"`\n",
    "- **Linux** (x86): `\"path/to/Reacher_Linux/Reacher.x86\"`\n",
    "- **Linux** (x86_64): `\"path/to/Reacher_Linux/Reacher.x86_64\"`\n",
    "- **Linux** (x86, headless): `\"path/to/Reacher_Linux_NoVis/Reacher.x86\"`\n",
    "- **Linux** (x86_64, headless): `\"path/to/Reacher_Linux_NoVis/Reacher.x86_64\"`\n",
    "\n",
    "For instance, if you are using a Mac, then you downloaded `Reacher.app`.  If this file is in the same folder as the notebook, then the line below should appear as follows:\n",
    "```\n",
    "env = UnityEnvironment(file_name=\"Reacher.app\")\n",
    "```"
   ]
  },
  {
   "cell_type": "code",
   "execution_count": 2,
   "metadata": {},
   "outputs": [
    {
     "name": "stderr",
     "output_type": "stream",
     "text": [
      "INFO:unityagents:\n",
      "'Academy' started successfully!\n",
      "Unity Academy name: Academy\n",
      "        Number of Brains: 1\n",
      "        Number of External Brains : 1\n",
      "        Lesson number : 0\n",
      "        Reset Parameters :\n",
      "\t\tgoal_speed -> 1.0\n",
      "\t\tgoal_size -> 5.0\n",
      "Unity brain name: ReacherBrain\n",
      "        Number of Visual Observations (per agent): 0\n",
      "        Vector Observation space type: continuous\n",
      "        Vector Observation space size (per agent): 33\n",
      "        Number of stacked Vector Observation: 1\n",
      "        Vector Action space type: continuous\n",
      "        Vector Action space size (per agent): 4\n",
      "        Vector Action descriptions: , , , \n"
     ]
    }
   ],
   "source": [
    "# change the simulated environment path to Multi-agents version\n",
    "authorLocalPath = r\".\\Reacher_Windows_x86_64_Multi\\Reacher_Windows_x86_64\\Reacher.exe\"\n",
    "env = UnityEnvironment(file_name=authorLocalPath)"
   ]
  },
  {
   "cell_type": "markdown",
   "metadata": {},
   "source": [
    "Environments contain **_brains_** which are responsible for deciding the actions of their associated agents. Here we check for the first brain available, and set it as the default brain we will be controlling from Python."
   ]
  },
  {
   "cell_type": "code",
   "execution_count": 3,
   "metadata": {},
   "outputs": [
    {
     "name": "stdout",
     "output_type": "stream",
     "text": [
      "Unity brain name: ReacherBrain\n",
      "        Number of Visual Observations (per agent): 0\n",
      "        Vector Observation space type: continuous\n",
      "        Vector Observation space size (per agent): 33\n",
      "        Number of stacked Vector Observation: 1\n",
      "        Vector Action space type: continuous\n",
      "        Vector Action space size (per agent): 4\n",
      "        Vector Action descriptions: , , , \n"
     ]
    }
   ],
   "source": [
    "# get the default brain\n",
    "brain_name = env.brain_names[0]\n",
    "brain = env.brains[brain_name]\n",
    "print(brain)"
   ]
  },
  {
   "cell_type": "markdown",
   "metadata": {},
   "source": [
    "### 2. Examine the State and Action Spaces\n",
    "\n",
    "In this environment, a double-jointed arm can move to target locations. A reward of `+0.1` is provided for each step that the agent's hand is in the goal location. Thus, the goal of your agent is to maintain its position at the target location for as many time steps as possible.\n",
    "\n",
    "The observation space consists of `33` variables corresponding to position, rotation, velocity, and angular velocities of the arm.  Each action is a vector with four numbers, corresponding to torque applicable to two joints.  Every entry in the action vector must be a number between `-1` and `1`.\n",
    "\n",
    "Run the code cell below to print some information about the environment."
   ]
  },
  {
   "cell_type": "code",
   "execution_count": 4,
   "metadata": {},
   "outputs": [
    {
     "name": "stdout",
     "output_type": "stream",
     "text": [
      "Number of agents: 20\n",
      "Size of each action: 4\n",
      "There are 20 agents. Each observes a state with length: 33\n",
      "The state for the first agent looks like: [ 0.00000000e+00 -4.00000000e+00  0.00000000e+00  1.00000000e+00\n",
      " -0.00000000e+00 -0.00000000e+00 -4.37113883e-08  0.00000000e+00\n",
      "  0.00000000e+00  0.00000000e+00  0.00000000e+00  0.00000000e+00\n",
      "  0.00000000e+00  0.00000000e+00 -1.00000000e+01  0.00000000e+00\n",
      "  1.00000000e+00 -0.00000000e+00 -0.00000000e+00 -4.37113883e-08\n",
      "  0.00000000e+00  0.00000000e+00  0.00000000e+00  0.00000000e+00\n",
      "  0.00000000e+00  0.00000000e+00  5.75471878e+00 -1.00000000e+00\n",
      "  5.55726624e+00  0.00000000e+00  1.00000000e+00  0.00000000e+00\n",
      " -1.68164849e-01]\n"
     ]
    }
   ],
   "source": [
    "# reset the environment\n",
    "env_info = env.reset(train_mode=True)[brain_name]\n",
    "\n",
    "# number of agents\n",
    "num_agents = len(env_info.agents)\n",
    "print('Number of agents:', num_agents)\n",
    "\n",
    "# size of each action\n",
    "action_size = brain.vector_action_space_size\n",
    "print('Size of each action:', action_size)\n",
    "\n",
    "# examine the state space \n",
    "states = env_info.vector_observations\n",
    "state_size = states.shape[1]\n",
    "print('There are {} agents. Each observes a state with length: {}'.format(states.shape[0], state_size))\n",
    "print('The state for the first agent looks like:', states[0])"
   ]
  },
  {
   "cell_type": "markdown",
   "metadata": {},
   "source": [
    "### 3. Take Random Actions in the Environment\n",
    "\n",
    "In the next code cell, you will learn how to use the Python API to control the agent and receive feedback from the environment.\n",
    "\n",
    "Once this cell is executed, you will watch the agent's performance, if it selects an action at random with each time step.  A window should pop up that allows you to observe the agent, as it moves through the environment.  \n",
    "\n",
    "Of course, as part of the project, you'll have to change the code so that the agent is able to use its experience to gradually choose better actions when interacting with the environment!"
   ]
  },
  {
   "cell_type": "code",
   "execution_count": 5,
   "metadata": {},
   "outputs": [
    {
     "name": "stdout",
     "output_type": "stream",
     "text": [
      "Total score (averaged over agents) this episode: 0.09699999783188104\n",
      "Terminal time step: 1000\n"
     ]
    }
   ],
   "source": [
    "env_info = env.reset(train_mode=True)[brain_name]     # reset the environment    \n",
    "states = env_info.vector_observations                  # get the current state (for each agent)\n",
    "scores = np.zeros(num_agents)                          # initialize the score (for each agent)\n",
    "step_t = 0                                             # track time step\n",
    "while True:\n",
    "    actions = np.random.randn(num_agents, action_size) # select an action (for each agent)\n",
    "    actions = np.clip(actions, -1, 1)                  # all actions between -1 and 1\n",
    "    env_info = env.step(actions)[brain_name]           # send all actions to tne environment\n",
    "    next_states = env_info.vector_observations         # get next state (for each agent)\n",
    "    rewards = env_info.rewards                         # get reward (for each agent)\n",
    "    dones = env_info.local_done                        # see if episode finished\n",
    "    scores += env_info.rewards                         # update the score (for each agent)\n",
    "    states = next_states                               # roll over states to next time step\n",
    "    if np.any(dones):                                  # exit loop if episode finished\n",
    "        break\n",
    "    step_t += 1                                        # increment time step tracker\n",
    "print('Total score (averaged over agents) this episode: {}'.format(np.mean(scores)))\n",
    "print(\"Terminal time step: {}\".format(step_t))"
   ]
  },
  {
   "cell_type": "markdown",
   "metadata": {},
   "source": [
    "When finished, you can close the environment."
   ]
  },
  {
   "cell_type": "code",
   "execution_count": 6,
   "metadata": {},
   "outputs": [],
   "source": [
    "# env.close()"
   ]
  },
  {
   "cell_type": "markdown",
   "metadata": {},
   "source": [
    "### 4. Training 20 Agents Simultaneously"
   ]
  },
  {
   "cell_type": "code",
   "execution_count": 7,
   "metadata": {},
   "outputs": [],
   "source": [
    "AGENT_PERFORMANCE_BENCHMARK = 30\n",
    "PRINT_EVERY = 100\n",
    "N_EPISODES = 200\n",
    "MAX_T = 1000"
   ]
  },
  {
   "cell_type": "code",
   "execution_count": 8,
   "metadata": {},
   "outputs": [],
   "source": [
    "from ddpg_agent import Agent\n",
    "agent = Agent(state_size=state_size, action_size=action_size, random_seed=123)\n",
    "\n",
    "def ddpg(n_episodes=N_EPISODES, max_t=MAX_T, print_every=PRINT_EVERY):\n",
    "    scores_deque = deque(maxlen=print_every)\n",
    "    scores = []\n",
    "    for i_episode in range(1, n_episodes+1):\n",
    "        env_info = env.reset(train_mode=True)[brain_name]\n",
    "        states = env_info.vector_observations\n",
    "        agent.reset()\n",
    "        eps_scores = np.zeros(num_agents) \n",
    "        for t in range(max_t):\n",
    "            actions = agent.act(states)                      # agent issue an action\n",
    "            env_info = env.step(actions)[brain_name]         # get the environment info\n",
    "            next_states = env_info.vector_observations       # get the next state\n",
    "            rewards = env_info.rewards                       # get the reward\n",
    "            dones = env_info.local_done                      # get done signal\n",
    "            # learning step for each agent\n",
    "            for i_agent in range(num_agents):\n",
    "                agent.step(states[i_agent].astype(np.float32),\n",
    "                           actions[i_agent],\n",
    "                           rewards[i_agent],\n",
    "                           next_states[i_agent].astype(np.float32),\n",
    "                           dones[i_agent])\n",
    "            states = next_states                             # current state\n",
    "            eps_scores += rewards                            # update current scores\n",
    "            if np.any(dones):\n",
    "                break \n",
    "        scores_deque.append(np.mean(eps_scores))                         # add episode score to queue\n",
    "        scores.append(np.mean(eps_scores))                               # add episode score to tracker\n",
    "        print('\\rEpisode {}\\tAverage Score: {:.2f}'.format(i_episode, np.mean(scores_deque)), end=\"\")\n",
    "        if i_episode % print_every == 0:                   # print average score once every k\n",
    "            print('\\rEpisode {}\\tAverage Score: {:.2f}'.format(i_episode, np.mean(scores_deque)))\n",
    "        # Indent/Unindent this block if we want to stop once the performance benchmark is achieved\n",
    "        # Keep as is if the goal is to get as high as performance as we can...\n",
    "        if np.mean(scores_deque)>=AGENT_PERFORMANCE_BENCHMARK and i_episode >= 100: # stop and save agent params the environment is solved\n",
    "            print('\\nEnvironment solved in {:d} episodes!\\tAverage Score: {:.2f}'.format(i_episode-1, np.mean(scores_deque)))\n",
    "            torch.save(agent.actor_local.state_dict(), 'checkpoint_actor.pth')\n",
    "            torch.save(agent.critic_local.state_dict(), 'checkpoint_critic.pth')\n",
    "    return scores"
   ]
  },
  {
   "cell_type": "code",
   "execution_count": 9,
   "metadata": {},
   "outputs": [
    {
     "name": "stdout",
     "output_type": "stream",
     "text": [
      "Episode 100\tAverage Score: 33.68\n",
      "\n",
      "Environment solved in 99 episodes!\tAverage Score: 33.68\n",
      "Episode 101\tAverage Score: 34.06\n",
      "Environment solved in 100 episodes!\tAverage Score: 34.06\n",
      "Episode 102\tAverage Score: 34.42\n",
      "Environment solved in 101 episodes!\tAverage Score: 34.42\n",
      "Episode 103\tAverage Score: 34.77\n",
      "Environment solved in 102 episodes!\tAverage Score: 34.77\n",
      "Episode 104\tAverage Score: 35.07\n",
      "Environment solved in 103 episodes!\tAverage Score: 35.07\n",
      "Episode 105\tAverage Score: 35.36\n",
      "Environment solved in 104 episodes!\tAverage Score: 35.36\n",
      "Episode 106\tAverage Score: 35.61\n",
      "Environment solved in 105 episodes!\tAverage Score: 35.61\n",
      "Episode 107\tAverage Score: 35.85\n",
      "Environment solved in 106 episodes!\tAverage Score: 35.85\n",
      "Episode 108\tAverage Score: 36.06\n",
      "Environment solved in 107 episodes!\tAverage Score: 36.06\n",
      "Episode 109\tAverage Score: 36.26\n",
      "Environment solved in 108 episodes!\tAverage Score: 36.26\n",
      "Episode 110\tAverage Score: 36.46\n",
      "Environment solved in 109 episodes!\tAverage Score: 36.46\n",
      "Episode 111\tAverage Score: 36.64\n",
      "Environment solved in 110 episodes!\tAverage Score: 36.64\n",
      "Episode 112\tAverage Score: 36.76\n",
      "Environment solved in 111 episodes!\tAverage Score: 36.76\n",
      "Episode 113\tAverage Score: 36.88\n",
      "Environment solved in 112 episodes!\tAverage Score: 36.88\n",
      "Episode 114\tAverage Score: 37.01\n",
      "Environment solved in 113 episodes!\tAverage Score: 37.01\n",
      "Episode 115\tAverage Score: 37.13\n",
      "Environment solved in 114 episodes!\tAverage Score: 37.13\n",
      "Episode 116\tAverage Score: 37.26\n",
      "Environment solved in 115 episodes!\tAverage Score: 37.26\n",
      "Episode 117\tAverage Score: 37.37\n",
      "Environment solved in 116 episodes!\tAverage Score: 37.37\n",
      "Episode 118\tAverage Score: 37.46\n",
      "Environment solved in 117 episodes!\tAverage Score: 37.46\n",
      "Episode 119\tAverage Score: 37.56\n",
      "Environment solved in 118 episodes!\tAverage Score: 37.56\n",
      "Episode 120\tAverage Score: 37.64\n",
      "Environment solved in 119 episodes!\tAverage Score: 37.64\n",
      "Episode 121\tAverage Score: 37.73\n",
      "Environment solved in 120 episodes!\tAverage Score: 37.73\n",
      "Episode 122\tAverage Score: 37.78\n",
      "Environment solved in 121 episodes!\tAverage Score: 37.78\n",
      "Episode 123\tAverage Score: 37.84\n",
      "Environment solved in 122 episodes!\tAverage Score: 37.84\n",
      "Episode 124\tAverage Score: 37.89\n",
      "Environment solved in 123 episodes!\tAverage Score: 37.89\n",
      "Episode 125\tAverage Score: 37.93\n",
      "Environment solved in 124 episodes!\tAverage Score: 37.93\n",
      "Episode 126\tAverage Score: 37.97\n",
      "Environment solved in 125 episodes!\tAverage Score: 37.97\n",
      "Episode 127\tAverage Score: 37.99\n",
      "Environment solved in 126 episodes!\tAverage Score: 37.99\n",
      "Episode 128\tAverage Score: 38.03\n",
      "Environment solved in 127 episodes!\tAverage Score: 38.03\n",
      "Episode 129\tAverage Score: 38.08\n",
      "Environment solved in 128 episodes!\tAverage Score: 38.08\n",
      "Episode 130\tAverage Score: 38.10\n",
      "Environment solved in 129 episodes!\tAverage Score: 38.10\n",
      "Episode 131\tAverage Score: 38.14\n",
      "Environment solved in 130 episodes!\tAverage Score: 38.14\n",
      "Episode 132\tAverage Score: 38.15\n",
      "Environment solved in 131 episodes!\tAverage Score: 38.15\n",
      "Episode 133\tAverage Score: 38.18\n",
      "Environment solved in 132 episodes!\tAverage Score: 38.18\n",
      "Episode 134\tAverage Score: 38.20\n",
      "Environment solved in 133 episodes!\tAverage Score: 38.20\n",
      "Episode 135\tAverage Score: 38.22\n",
      "Environment solved in 134 episodes!\tAverage Score: 38.22\n",
      "Episode 136\tAverage Score: 38.23\n",
      "Environment solved in 135 episodes!\tAverage Score: 38.23\n",
      "Episode 137\tAverage Score: 38.24\n",
      "Environment solved in 136 episodes!\tAverage Score: 38.24\n",
      "Episode 138\tAverage Score: 38.25\n",
      "Environment solved in 137 episodes!\tAverage Score: 38.25\n",
      "Episode 139\tAverage Score: 38.26\n",
      "Environment solved in 138 episodes!\tAverage Score: 38.26\n",
      "Episode 140\tAverage Score: 38.28\n",
      "Environment solved in 139 episodes!\tAverage Score: 38.28\n",
      "Episode 141\tAverage Score: 38.30\n",
      "Environment solved in 140 episodes!\tAverage Score: 38.30\n",
      "Episode 142\tAverage Score: 38.31\n",
      "Environment solved in 141 episodes!\tAverage Score: 38.31\n",
      "Episode 143\tAverage Score: 38.33\n",
      "Environment solved in 142 episodes!\tAverage Score: 38.33\n",
      "Episode 144\tAverage Score: 38.34\n",
      "Environment solved in 143 episodes!\tAverage Score: 38.34\n",
      "Episode 145\tAverage Score: 38.36\n",
      "Environment solved in 144 episodes!\tAverage Score: 38.36\n",
      "Episode 146\tAverage Score: 38.37\n",
      "Environment solved in 145 episodes!\tAverage Score: 38.37\n",
      "Episode 147\tAverage Score: 38.37\n",
      "Environment solved in 146 episodes!\tAverage Score: 38.37\n",
      "Episode 148\tAverage Score: 38.38\n",
      "Environment solved in 147 episodes!\tAverage Score: 38.38\n",
      "Episode 149\tAverage Score: 38.39\n",
      "Environment solved in 148 episodes!\tAverage Score: 38.39\n",
      "Episode 150\tAverage Score: 38.40\n",
      "Environment solved in 149 episodes!\tAverage Score: 38.40\n",
      "Episode 151\tAverage Score: 38.40\n",
      "Environment solved in 150 episodes!\tAverage Score: 38.40\n",
      "Episode 152\tAverage Score: 38.39\n",
      "Environment solved in 151 episodes!\tAverage Score: 38.39\n",
      "Episode 153\tAverage Score: 38.39\n",
      "Environment solved in 152 episodes!\tAverage Score: 38.39\n",
      "Episode 154\tAverage Score: 38.39\n",
      "Environment solved in 153 episodes!\tAverage Score: 38.39\n",
      "Episode 155\tAverage Score: 38.39\n",
      "Environment solved in 154 episodes!\tAverage Score: 38.39\n",
      "Episode 156\tAverage Score: 38.40\n",
      "Environment solved in 155 episodes!\tAverage Score: 38.40\n",
      "Episode 157\tAverage Score: 38.41\n",
      "Environment solved in 156 episodes!\tAverage Score: 38.41\n",
      "Episode 158\tAverage Score: 38.42\n",
      "Environment solved in 157 episodes!\tAverage Score: 38.42\n",
      "Episode 159\tAverage Score: 38.42\n",
      "Environment solved in 158 episodes!\tAverage Score: 38.42\n",
      "Episode 160\tAverage Score: 38.42\n",
      "Environment solved in 159 episodes!\tAverage Score: 38.42\n",
      "Episode 161\tAverage Score: 38.43\n",
      "Environment solved in 160 episodes!\tAverage Score: 38.43\n",
      "Episode 162\tAverage Score: 38.43\n",
      "Environment solved in 161 episodes!\tAverage Score: 38.43\n",
      "Episode 163\tAverage Score: 38.43\n",
      "Environment solved in 162 episodes!\tAverage Score: 38.43\n",
      "Episode 164\tAverage Score: 38.45\n",
      "Environment solved in 163 episodes!\tAverage Score: 38.45\n",
      "Episode 165\tAverage Score: 38.46\n",
      "Environment solved in 164 episodes!\tAverage Score: 38.46\n",
      "Episode 166\tAverage Score: 38.48\n",
      "Environment solved in 165 episodes!\tAverage Score: 38.48\n",
      "Episode 167\tAverage Score: 38.50\n",
      "Environment solved in 166 episodes!\tAverage Score: 38.50\n",
      "Episode 168\tAverage Score: 38.50\n",
      "Environment solved in 167 episodes!\tAverage Score: 38.50\n",
      "Episode 169\tAverage Score: 38.52\n",
      "Environment solved in 168 episodes!\tAverage Score: 38.52\n",
      "Episode 170\tAverage Score: 38.51\n",
      "Environment solved in 169 episodes!\tAverage Score: 38.51\n",
      "Episode 171\tAverage Score: 38.52\n",
      "Environment solved in 170 episodes!\tAverage Score: 38.52\n",
      "Episode 172\tAverage Score: 38.53\n",
      "Environment solved in 171 episodes!\tAverage Score: 38.53\n",
      "Episode 173\tAverage Score: 38.53\n",
      "Environment solved in 172 episodes!\tAverage Score: 38.53\n",
      "Episode 174\tAverage Score: 38.53\n",
      "Environment solved in 173 episodes!\tAverage Score: 38.53\n",
      "Episode 175\tAverage Score: 38.53\n",
      "Environment solved in 174 episodes!\tAverage Score: 38.53\n",
      "Episode 176\tAverage Score: 38.53\n",
      "Environment solved in 175 episodes!\tAverage Score: 38.53\n",
      "Episode 177\tAverage Score: 38.54\n",
      "Environment solved in 176 episodes!\tAverage Score: 38.54\n",
      "Episode 178\tAverage Score: 38.53\n",
      "Environment solved in 177 episodes!\tAverage Score: 38.53\n",
      "Episode 179\tAverage Score: 38.54\n",
      "Environment solved in 178 episodes!\tAverage Score: 38.54\n",
      "Episode 180\tAverage Score: 38.54\n",
      "Environment solved in 179 episodes!\tAverage Score: 38.54\n",
      "Episode 181\tAverage Score: 38.53\n",
      "Environment solved in 180 episodes!\tAverage Score: 38.53\n",
      "Episode 182\tAverage Score: 38.53\n",
      "Environment solved in 181 episodes!\tAverage Score: 38.53\n",
      "Episode 183\tAverage Score: 38.53\n",
      "Environment solved in 182 episodes!\tAverage Score: 38.53\n",
      "Episode 184\tAverage Score: 38.53\n",
      "Environment solved in 183 episodes!\tAverage Score: 38.53\n",
      "Episode 185\tAverage Score: 38.53\n",
      "Environment solved in 184 episodes!\tAverage Score: 38.53\n",
      "Episode 186\tAverage Score: 38.54\n",
      "Environment solved in 185 episodes!\tAverage Score: 38.54\n",
      "Episode 187\tAverage Score: 38.54\n",
      "Environment solved in 186 episodes!\tAverage Score: 38.54\n",
      "Episode 188\tAverage Score: 38.54\n",
      "Environment solved in 187 episodes!\tAverage Score: 38.54\n",
      "Episode 189\tAverage Score: 38.54\n",
      "Environment solved in 188 episodes!\tAverage Score: 38.54\n",
      "Episode 190\tAverage Score: 38.55\n",
      "Environment solved in 189 episodes!\tAverage Score: 38.55\n",
      "Episode 191\tAverage Score: 38.55\n",
      "Environment solved in 190 episodes!\tAverage Score: 38.55\n"
     ]
    },
    {
     "name": "stdout",
     "output_type": "stream",
     "text": [
      "Episode 192\tAverage Score: 38.55\n",
      "Environment solved in 191 episodes!\tAverage Score: 38.55\n",
      "Episode 193\tAverage Score: 38.54\n",
      "Environment solved in 192 episodes!\tAverage Score: 38.54\n",
      "Episode 194\tAverage Score: 38.54\n",
      "Environment solved in 193 episodes!\tAverage Score: 38.54\n",
      "Episode 195\tAverage Score: 38.53\n",
      "Environment solved in 194 episodes!\tAverage Score: 38.53\n",
      "Episode 196\tAverage Score: 38.53\n",
      "Environment solved in 195 episodes!\tAverage Score: 38.53\n",
      "Episode 197\tAverage Score: 38.52\n",
      "Environment solved in 196 episodes!\tAverage Score: 38.52\n",
      "Episode 198\tAverage Score: 38.52\n",
      "Environment solved in 197 episodes!\tAverage Score: 38.52\n",
      "Episode 199\tAverage Score: 38.53\n",
      "Environment solved in 198 episodes!\tAverage Score: 38.53\n",
      "Episode 200\tAverage Score: 38.53\n",
      "\n",
      "Environment solved in 199 episodes!\tAverage Score: 38.53\n",
      "\n",
      "---Training duration: 19:04:01.852830 ---\n"
     ]
    },
    {
     "data": {
      "image/png": "[encoded data removed]",
      "text/plain": [
       "<Figure size 432x288 with 1 Axes>"
      ]
     },
     "metadata": {
      "needs_background": "light"
     },
     "output_type": "display_data"
    }
   ],
   "source": [
    "from datetime import datetime\n",
    "start_time = datetime.now()\n",
    "scores = ddpg()\n",
    "print(\"\\n---Training duration: %s ---\" % (datetime.now() - start_time))\n",
    "\n",
    "fig = plt.figure()\n",
    "ax = fig.add_subplot(111)\n",
    "plt.plot(np.arange(1, len(scores)+1), scores)\n",
    "plt.ylabel('Score')\n",
    "plt.xlabel('Episode #')\n",
    "plt.show()"
   ]
  },
  {
   "cell_type": "markdown",
   "metadata": {},
   "source": [
    "### 5. Watch the Agent after training"
   ]
  },
  {
   "cell_type": "markdown",
   "metadata": {},
   "source": [
    "Since, we are using 20-agent version above, we'll need to restart the kernal, loading the libraries before running the following:"
   ]
  },
  {
   "cell_type": "code",
   "execution_count": 2,
   "metadata": {},
   "outputs": [
    {
     "name": "stderr",
     "output_type": "stream",
     "text": [
      "INFO:unityagents:\n",
      "'Academy' started successfully!\n",
      "Unity Academy name: Academy\n",
      "        Number of Brains: 1\n",
      "        Number of External Brains : 1\n",
      "        Lesson number : 0\n",
      "        Reset Parameters :\n",
      "\t\tgoal_speed -> 1.0\n",
      "\t\tgoal_size -> 5.0\n",
      "Unity brain name: ReacherBrain\n",
      "        Number of Visual Observations (per agent): 0\n",
      "        Vector Observation space type: continuous\n",
      "        Vector Observation space size (per agent): 33\n",
      "        Number of stacked Vector Observation: 1\n",
      "        Vector Action space type: continuous\n",
      "        Vector Action space size (per agent): 4\n",
      "        Vector Action descriptions: , , , \n"
     ]
    }
   ],
   "source": [
    "#Using single version\n",
    "authorLocalPath = r\".\\Reacher_Windows_x86_64_Single\\Reacher_Windows_x86_64\\Reacher.exe\"\n",
    "env = UnityEnvironment(file_name=authorLocalPath)\n",
    "# get the default brain\n",
    "brain_name = env.brain_names[0]"
   ]
  },
  {
   "cell_type": "code",
   "execution_count": 3,
   "metadata": {},
   "outputs": [],
   "source": [
    "from ddpg_agent import Agent\n",
    "\n",
    "brain = env.brains[brain_name]\n",
    "env_info = env.reset(train_mode=False)[brain_name]\n",
    "# size of each action\n",
    "action_size = brain.vector_action_space_size\n",
    "\n",
    "# examine the state space \n",
    "states = env_info.vector_observations\n",
    "state_size = states.shape[1]\n",
    "\n",
    "\n",
    "agent = Agent(state_size=state_size, action_size=action_size, random_seed=123)"
   ]
  },
  {
   "cell_type": "code",
   "execution_count": 4,
   "metadata": {},
   "outputs": [],
   "source": [
    "agent.actor_local.load_state_dict(torch.load('checkpoint_actor.pth'))\n",
    "agent.critic_local.load_state_dict(torch.load('checkpoint_critic.pth'))\n",
    "\n",
    "for i in range(1):\n",
    "    env_info = env.reset(train_mode=False)[brain_name]\n",
    "    state = env_info.vector_observations[0] \n",
    "    score = 0\n",
    "    for t in range(1000):\n",
    "        action = agent.act(state)\n",
    "        env_info = env.step(np.int32(action))[brain_name]# send the action to the environment\n",
    "        reward = env_info.rewards[0] # get the reward\n",
    "        done = env_info.local_done[0]\n",
    "        next_state = env_info.vector_observations[0] #get the next state\n",
    "        state = next_state\n",
    "        score += reward\n",
    "        if done:\n",
    "            print('\\rRun: {} , Score: {}'.format(i+1,score))\n",
    "            break "
   ]
  },
  {
   "cell_type": "code",
   "execution_count": 5,
   "metadata": {},
   "outputs": [],
   "source": [
    "env.close()"
   ]
  }
 ],
 "metadata": {
  "kernelspec": {
   "display_name": "drlnd",
   "language": "python",
   "name": "drlnd"
  },
  "language_info": {
   "codemirror_mode": {
    "name": "ipython",
    "version": 3
   },
   "file_extension": ".py",
   "mimetype": "text/x-python",
   "name": "python",
   "nbconvert_exporter": "python",
   "pygments_lexer": "ipython3",
   "version": "3.6.13"
  }
 },
 "nbformat": 4,
 "nbformat_minor": 2
}
